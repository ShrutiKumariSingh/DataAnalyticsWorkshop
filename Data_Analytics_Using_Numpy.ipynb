{
  "nbformat": 4,
  "nbformat_minor": 0,
  "metadata": {
    "colab": {
      "provenance": []
    },
    "kernelspec": {
      "name": "python3",
      "display_name": "Python 3"
    },
    "language_info": {
      "name": "python"
    }
  },
  "cells": [
    {
      "cell_type": "code",
      "execution_count": null,
      "metadata": {
        "colab": {
          "base_uri": "https://localhost:8080/"
        },
        "id": "JXgaDs073HoL",
        "outputId": "ca907dd7-60d4-4bbb-9f0a-5ea27377222e"
      },
      "outputs": [
        {
          "output_type": "stream",
          "name": "stdout",
          "text": [
            "2.0.2\n"
          ]
        }
      ],
      "source": [
        "import numpy\n",
        "print(numpy.__version__)\n"
      ]
    },
    {
      "cell_type": "code",
      "source": [
        "import numpy as np\n",
        "print(np.__version__)"
      ],
      "metadata": {
        "colab": {
          "base_uri": "https://localhost:8080/"
        },
        "id": "TpS5iODc4Ouw",
        "outputId": "fc5843f0-15b7-4f98-d2b4-a2709dd489e3"
      },
      "execution_count": null,
      "outputs": [
        {
          "output_type": "stream",
          "name": "stdout",
          "text": [
            "2.0.2\n"
          ]
        }
      ]
    },
    {
      "cell_type": "code",
      "source": [
        "#Create a numpy array from a Python list\n",
        "l=[1,2,3,4,5,6,7,8,9]\n",
        "a=np.array(l)#convert list ti n-dimensional array\n",
        "print(\"Array from List\",a)"
      ],
      "metadata": {
        "colab": {
          "base_uri": "https://localhost:8080/"
        },
        "id": "gfadlA7p4i_s",
        "outputId": "fedecf09-fa9a-40f9-f8df-b26dc35008e4"
      },
      "execution_count": null,
      "outputs": [
        {
          "output_type": "stream",
          "name": "stdout",
          "text": [
            "Array from List [1 2 3 4 5 6 7 8 9]\n"
          ]
        }
      ]
    },
    {
      "cell_type": "code",
      "source": [
        "#Creating 1Darray\n",
        "a=np.array([10,20,30,40])\n",
        "print(\"1D array\",a)"
      ],
      "metadata": {
        "colab": {
          "base_uri": "https://localhost:8080/"
        },
        "id": "VtGYDKTM6LoI",
        "outputId": "5082c93f-4e3c-45a4-b61e-03963ddc52d3"
      },
      "execution_count": null,
      "outputs": [
        {
          "output_type": "stream",
          "name": "stdout",
          "text": [
            "1D array [10 20 30 40]\n"
          ]
        }
      ]
    },
    {
      "cell_type": "code",
      "source": [
        "#create a 2D array\n",
        "a=np.array([[10,20,30], [40,50,60]])\n",
        "print(\"2D array\",a)"
      ],
      "metadata": {
        "colab": {
          "base_uri": "https://localhost:8080/"
        },
        "id": "IvNwgSzE6ex_",
        "outputId": "d464e615-5a0c-4f1a-e5d9-a06f1e43499f"
      },
      "execution_count": null,
      "outputs": [
        {
          "output_type": "stream",
          "name": "stdout",
          "text": [
            "2D array [[10 20 30]\n",
            " [40 50 60]]\n"
          ]
        }
      ]
    },
    {
      "cell_type": "code",
      "source": [
        "#create evenly spaced integers with range\n",
        "a=np.arange(0,10,2)\n",
        "print(\"Range Array\",a)"
      ],
      "metadata": {
        "colab": {
          "base_uri": "https://localhost:8080/"
        },
        "id": "cKtQj5QC7W6i",
        "outputId": "25c09b5b-a14d-4d12-989d-27ea47a621f2"
      },
      "execution_count": null,
      "outputs": [
        {
          "output_type": "stream",
          "name": "stdout",
          "text": [
            "Range Array [0 2 4 6 8]\n"
          ]
        }
      ]
    },
    {
      "cell_type": "code",
      "source": [
        "#create evenly spaced floats using linspace\n",
        "a=np.linspace(0,1,5)\n",
        "print(\"Linspace Array\",a)"
      ],
      "metadata": {
        "colab": {
          "base_uri": "https://localhost:8080/"
        },
        "id": "nKQNi_VA7xBF",
        "outputId": "b1bcbb16-1a24-4416-8b51-6ac5a809df28"
      },
      "execution_count": null,
      "outputs": [
        {
          "output_type": "stream",
          "name": "stdout",
          "text": [
            "Linspace Array [0.   0.25 0.5  0.75 1.  ]\n"
          ]
        }
      ]
    },
    {
      "cell_type": "code",
      "source": [
        "#create a 2*3 array of all zeros\n",
        "a=np.zeros((2,3))\n",
        "print(\"Zeros Array\",a)"
      ],
      "metadata": {
        "colab": {
          "base_uri": "https://localhost:8080/"
        },
        "id": "1rKwQmaZ79aS",
        "outputId": "f94e5e7e-3b66-4c08-9cd7-a2a5b5dae2db"
      },
      "execution_count": null,
      "outputs": [
        {
          "output_type": "stream",
          "name": "stdout",
          "text": [
            "Zeros Array [[0. 0. 0.]\n",
            " [0. 0. 0.]]\n"
          ]
        }
      ]
    },
    {
      "cell_type": "code",
      "source": [
        "#create a 3*2 array of all ones\n",
        "a=np.ones((3,2))\n",
        "print(\"Ones Array\",a)"
      ],
      "metadata": {
        "colab": {
          "base_uri": "https://localhost:8080/"
        },
        "id": "xdlIf1TI8KTj",
        "outputId": "5f906317-85de-4c28-e319-9daad2b59866"
      },
      "execution_count": null,
      "outputs": [
        {
          "output_type": "stream",
          "name": "stdout",
          "text": [
            "Ones Array [[1. 1.]\n",
            " [1. 1.]\n",
            " [1. 1.]]\n"
          ]
        }
      ]
    },
    {
      "cell_type": "code",
      "source": [
        "#create a 2*2 array filled with value 7\n",
        "a=np.full((2,2),7)\n",
        "print(\"Full Array \\n\",a)"
      ],
      "metadata": {
        "colab": {
          "base_uri": "https://localhost:8080/"
        },
        "id": "FHl7H_GZ8kLN",
        "outputId": "042ba987-1b32-46c1-f70b-93813ee46d5d"
      },
      "execution_count": null,
      "outputs": [
        {
          "output_type": "stream",
          "name": "stdout",
          "text": [
            "Full Array \n",
            " [[7 7]\n",
            " [7 7]]\n"
          ]
        }
      ]
    },
    {
      "cell_type": "code",
      "source": [
        "#create a 2Darray with 2 rows and 3 columns\n",
        "a=np.array([[10,20,30], [40,50,60]])\n",
        "print(\"2D Array \\n\",a)"
      ],
      "metadata": {
        "colab": {
          "base_uri": "https://localhost:8080/"
        },
        "id": "Q9pb-88x-Hnr",
        "outputId": "0861bd38-b7c0-4b20-ca77-fecb011279c2"
      },
      "execution_count": null,
      "outputs": [
        {
          "output_type": "stream",
          "name": "stdout",
          "text": [
            "2D Array \n",
            " [[10 20 30]\n",
            " [40 50 60]]\n"
          ]
        }
      ]
    },
    {
      "cell_type": "code",
      "source": [
        "#Shape tuple of(rows,columns)\n",
        "print(\"Shape of Array\",a.shape)"
      ],
      "metadata": {
        "colab": {
          "base_uri": "https://localhost:8080/"
        },
        "id": "KCS7WI4N_GRS",
        "outputId": "b98b01b9-7111-4385-9708-7fbd0ae7b258"
      },
      "execution_count": null,
      "outputs": [
        {
          "output_type": "stream",
          "name": "stdout",
          "text": [
            "Shape of Array (2, 3)\n"
          ]
        }
      ]
    },
    {
      "cell_type": "code",
      "source": [
        "#Number of Dimensions(axes). 1D,2D,3D\n",
        "print(\"Dimension of Array\",a.ndim)"
      ],
      "metadata": {
        "colab": {
          "base_uri": "https://localhost:8080/"
        },
        "id": "qcRaFtYf_jqZ",
        "outputId": "7d1f9508-86fd-4457-ddd9-31238bf3c10d"
      },
      "execution_count": null,
      "outputs": [
        {
          "output_type": "stream",
          "name": "stdout",
          "text": [
            "Dimension of Array 2\n"
          ]
        }
      ]
    },
    {
      "cell_type": "code",
      "source": [
        "#dtype:data type of the elements (int32,float64)\n",
        "print(\"Data Type of Array\",a.dtype)"
      ],
      "metadata": {
        "colab": {
          "base_uri": "https://localhost:8080/"
        },
        "id": "vs5XEsbC_8x_",
        "outputId": "fd7b5b58-525c-4935-9870-91500335cfbb"
      },
      "execution_count": null,
      "outputs": [
        {
          "output_type": "stream",
          "name": "stdout",
          "text": [
            "Data Type of Array int64\n"
          ]
        }
      ]
    },
    {
      "cell_type": "code",
      "source": [
        "#size:total number of elements in the array\n",
        "print(\"Size of Array\",a.size)"
      ],
      "metadata": {
        "colab": {
          "base_uri": "https://localhost:8080/"
        },
        "id": "bfzN44SWAKal",
        "outputId": "d6e50665-be93-4c69-d897-293e95016bb4"
      },
      "execution_count": null,
      "outputs": [
        {
          "output_type": "stream",
          "name": "stdout",
          "text": [
            "Size of Array 6\n"
          ]
        }
      ]
    },
    {
      "cell_type": "code",
      "source": [
        "#each row=a product ; each column=a month(Jan to Mar)\n",
        "s=np.array([\n",
        "    [100,200,300],#Product A\n",
        "     [400,500,600],#Product B\n",
        "      [500,600,700]#Product C\n",
        "    ])\n",
        "print(\"Sales Data \\n\",s)"
      ],
      "metadata": {
        "colab": {
          "base_uri": "https://localhost:8080/"
        },
        "id": "yz1DdbBxBQTC",
        "outputId": "2e77c405-ca03-4f0b-f3a5-95ce65b92e14"
      },
      "execution_count": null,
      "outputs": [
        {
          "output_type": "stream",
          "name": "stdout",
          "text": [
            "Sales Data \n",
            " [[100 200 300]\n",
            " [400 500 600]\n",
            " [500 600 700]]\n"
          ]
        }
      ]
    },
    {
      "cell_type": "code",
      "source": [
        "#Elemnt at row 0,column 1(Product A in Feb)\n",
        "print(\"Sales of Product A in Feb\",s[0,1])"
      ],
      "metadata": {
        "colab": {
          "base_uri": "https://localhost:8080/"
        },
        "id": "LnlvR73wB1sO",
        "outputId": "ee770db1-f632-446c-b3ae-880051ba474f"
      },
      "execution_count": null,
      "outputs": [
        {
          "output_type": "stream",
          "name": "stdout",
          "text": [
            "Sales of Product A in Feb 200\n"
          ]
        }
      ]
    },
    {
      "cell_type": "code",
      "source": [
        "#entire first row(Product A)\n",
        "print(\"Sales of Product A\",s[0])"
      ],
      "metadata": {
        "colab": {
          "base_uri": "https://localhost:8080/"
        },
        "id": "b9mC70ejCqfC",
        "outputId": "d1d62c79-28bf-4d1d-eee5-8d1de57ba59a"
      },
      "execution_count": null,
      "outputs": [
        {
          "output_type": "stream",
          "name": "stdout",
          "text": [
            "Sales of Product A [100 200 300]\n"
          ]
        }
      ]
    },
    {
      "cell_type": "code",
      "source": [
        "#last column (March for all Products)\n",
        "print(\"Sales of March\",s[:,-1])"
      ],
      "metadata": {
        "colab": {
          "base_uri": "https://localhost:8080/"
        },
        "id": "q15zpadBC12X",
        "outputId": "3ee665df-49bb-4d6d-fddb-4c9981d90ced"
      },
      "execution_count": null,
      "outputs": [
        {
          "output_type": "stream",
          "name": "stdout",
          "text": [
            "Sales of March [300 600 700]\n"
          ]
        }
      ]
    },
    {
      "cell_type": "code",
      "source": [
        "#Subarray: First 2 rows and 2 columns\n",
        "print(\"Subarray \\n\",s[:2,:2])"
      ],
      "metadata": {
        "colab": {
          "base_uri": "https://localhost:8080/"
        },
        "id": "AlG_jb1-C_5p",
        "outputId": "09ba36cf-6237-4386-a59a-c5b8c614033d"
      },
      "execution_count": null,
      "outputs": [
        {
          "output_type": "stream",
          "name": "stdout",
          "text": [
            "Subarray \n",
            " [[100 200]\n",
            " [400 500]]\n"
          ]
        }
      ]
    },
    {
      "cell_type": "code",
      "source": [
        "#reverse the order of rows(Products C,B,A)\n",
        "print(\"Reverse Rows \\n\",s[::-1])"
      ],
      "metadata": {
        "colab": {
          "base_uri": "https://localhost:8080/"
        },
        "id": "FU4p5vv1DgpC",
        "outputId": "cd40abc0-4633-41ce-a620-dd209f92f1bd"
      },
      "execution_count": null,
      "outputs": [
        {
          "output_type": "stream",
          "name": "stdout",
          "text": [
            "Reverse Rows \n",
            " [[500 600 700]\n",
            " [400 500 600]\n",
            " [100 200 300]]\n"
          ]
        }
      ]
    },
    {
      "cell_type": "code",
      "source": [
        "#Every other column(Jan and Mar)\n",
        "print(\"Every Other Column \\n\",s[:,::2])"
      ],
      "metadata": {
        "colab": {
          "base_uri": "https://localhost:8080/"
        },
        "id": "0cTAGtwUDwh4",
        "outputId": "1369035f-43fc-4924-88d4-33980862c3b0"
      },
      "execution_count": null,
      "outputs": [
        {
          "output_type": "stream",
          "name": "stdout",
          "text": [
            "Every Other Column \n",
            " [[100 300]\n",
            " [400 600]\n",
            " [500 700]]\n"
          ]
        }
      ]
    },
    {
      "cell_type": "code",
      "source": [
        "print(s[-1:-3:-1])"
      ],
      "metadata": {
        "colab": {
          "base_uri": "https://localhost:8080/"
        },
        "id": "rX_jdkYZEAbw",
        "outputId": "ba496a79-98d6-40d6-eeb1-5d555e80f1f7"
      },
      "execution_count": null,
      "outputs": [
        {
          "output_type": "stream",
          "name": "stdout",
          "text": [
            "[[500 600 700]\n",
            " [400 500 600]]\n"
          ]
        }
      ]
    },
    {
      "cell_type": "code",
      "source": [
        "print(s[-1:-3])"
      ],
      "metadata": {
        "colab": {
          "base_uri": "https://localhost:8080/"
        },
        "id": "Ss9x2OyIHAEH",
        "outputId": "5244903e-fc40-44f1-f875-33c22add025c"
      },
      "execution_count": null,
      "outputs": [
        {
          "output_type": "stream",
          "name": "stdout",
          "text": [
            "[]\n"
          ]
        }
      ]
    },
    {
      "cell_type": "code",
      "source": [
        "print(s[-3:-3:-1])"
      ],
      "metadata": {
        "colab": {
          "base_uri": "https://localhost:8080/"
        },
        "id": "eq0ZpaypJdew",
        "outputId": "66f45453-0b6d-4c8b-d83f-7b7c9e4e6e51"
      },
      "execution_count": null,
      "outputs": [
        {
          "output_type": "stream",
          "name": "stdout",
          "text": [
            "[]\n"
          ]
        }
      ]
    },
    {
      "cell_type": "code",
      "source": [
        "print(s[-2:-3:-2])"
      ],
      "metadata": {
        "colab": {
          "base_uri": "https://localhost:8080/"
        },
        "id": "pInQAzCFHJ0o",
        "outputId": "5b04da3e-4dab-4473-f544-7fdc3e0a3e0e"
      },
      "execution_count": null,
      "outputs": [
        {
          "output_type": "stream",
          "name": "stdout",
          "text": [
            "[[400 500 600]]\n"
          ]
        }
      ]
    },
    {
      "cell_type": "code",
      "source": [
        "print(s[-1:-3:-3])"
      ],
      "metadata": {
        "colab": {
          "base_uri": "https://localhost:8080/"
        },
        "id": "yGaIuWBqIM8S",
        "outputId": "4309a2ba-f13f-47e8-afb9-8a2c00ade14b"
      },
      "execution_count": null,
      "outputs": [
        {
          "output_type": "stream",
          "name": "stdout",
          "text": [
            "[[500 600 700]]\n"
          ]
        }
      ]
    },
    {
      "cell_type": "code",
      "source": [
        "#create a 3*4 array with values 1-12\n",
        "t=np.arange(1,13).reshape(3,4)\n",
        "print(t)"
      ],
      "metadata": {
        "colab": {
          "base_uri": "https://localhost:8080/"
        },
        "id": "S5Ubq-u7IVv5",
        "outputId": "2e028de1-0feb-4ec7-bdd1-86f21b50487c"
      },
      "execution_count": null,
      "outputs": [
        {
          "output_type": "stream",
          "name": "stdout",
          "text": [
            "[[ 1  2  3  4]\n",
            " [ 5  6  7  8]\n",
            " [ 9 10 11 12]]\n"
          ]
        }
      ]
    },
    {
      "cell_type": "code",
      "source": [
        "print(t[:,0])"
      ],
      "metadata": {
        "colab": {
          "base_uri": "https://localhost:8080/"
        },
        "id": "f0WJ4ciNJVGk",
        "outputId": "1d85462d-e92e-432d-ecd4-9db33dd58ff2"
      },
      "execution_count": null,
      "outputs": [
        {
          "output_type": "stream",
          "name": "stdout",
          "text": [
            "[1 5 9]\n"
          ]
        }
      ]
    },
    {
      "cell_type": "code",
      "source": [
        "#retrieve last 2 columns\n",
        "print(t[:,-2:])"
      ],
      "metadata": {
        "colab": {
          "base_uri": "https://localhost:8080/"
        },
        "id": "Bcq_CKBkKVNi",
        "outputId": "ba4b10d0-c104-4e7c-e23f-b281b66b642c"
      },
      "execution_count": null,
      "outputs": [
        {
          "output_type": "stream",
          "name": "stdout",
          "text": [
            "[[ 3  4]\n",
            " [ 7  8]\n",
            " [11 12]]\n"
          ]
        }
      ]
    },
    {
      "cell_type": "code",
      "source": [
        "#reverse the array\n",
        "print(\"Reverse Rows \\n\",t[::-1])"
      ],
      "metadata": {
        "colab": {
          "base_uri": "https://localhost:8080/"
        },
        "id": "bQSrJfI5KjSf",
        "outputId": "735d3425-6318-4ee2-d948-8ea417096ff7"
      },
      "execution_count": null,
      "outputs": [
        {
          "output_type": "stream",
          "name": "stdout",
          "text": [
            "Reverse Rows \n",
            " [[ 9 10 11 12]\n",
            " [ 5  6  7  8]\n",
            " [ 1  2  3  4]]\n"
          ]
        }
      ]
    },
    {
      "cell_type": "code",
      "source": [
        "#define two arrays with same shape\n",
        "a1=np.array([10,20,30,40])\n",
        "a2=np.array([1,2,3,4])"
      ],
      "metadata": {
        "id": "WvgoWYfbLFxj"
      },
      "execution_count": null,
      "outputs": []
    },
    {
      "cell_type": "code",
      "source": [
        "#print basic arithmetic operations\n",
        "print(\"Addition:\",a1+a2)\n",
        "print(\"Subtraction:\",a1-a2)\n",
        "print(\"Multiplication:\",a1*a2)\n",
        "print(\"Division:\",a1/a2)"
      ],
      "metadata": {
        "colab": {
          "base_uri": "https://localhost:8080/"
        },
        "id": "iwB9np0QQnmS",
        "outputId": "38c2285d-5fa5-49f5-bac0-a3e276c70a6e"
      },
      "execution_count": null,
      "outputs": [
        {
          "output_type": "stream",
          "name": "stdout",
          "text": [
            "Addition: [11 22 33 44]\n",
            "Subtraction: [ 9 18 27 36]\n",
            "Multiplication: [ 10  40  90 160]\n",
            "Division: [10. 10. 10. 10.]\n"
          ]
        }
      ]
    },
    {
      "cell_type": "code",
      "source": [
        "#Array and Scalar operation\n",
        "print(\"Add 100 to a1:\",a1+100)"
      ],
      "metadata": {
        "colab": {
          "base_uri": "https://localhost:8080/"
        },
        "id": "DRGqoKytRHlv",
        "outputId": "407884e3-afc6-4d74-e665-0b9d10658812"
      },
      "execution_count": null,
      "outputs": [
        {
          "output_type": "stream",
          "name": "stdout",
          "text": [
            "Add 100 to a1: [110 120 130 140]\n"
          ]
        }
      ]
    },
    {
      "cell_type": "code",
      "source": [
        "#create a 2d array\n",
        "m=np.array([[10,20,30],[40,50,60]])\n",
        "print(\"Total Sum\",np.sum(m))\n",
        "print(\"Mean Value\",np.mean(m))\n",
        "print(\"Standard Deviation\",np.std(m))\n",
        "print(\"Sum by Column(axis=0)\",np.sum(m,axis=0))#applies through column\n",
        "print(\"Sum by Row(axis=1)\",np.sum(m,axis=1))#applies through row\n",
        "print(\"Mean by row\",np.mean(m,axis=1))"
      ],
      "metadata": {
        "colab": {
          "base_uri": "https://localhost:8080/"
        },
        "id": "ECMm2PaBRWus",
        "outputId": "9fd0da1e-ab44-4691-c676-e35704e754a7"
      },
      "execution_count": null,
      "outputs": [
        {
          "output_type": "stream",
          "name": "stdout",
          "text": [
            "Total Sum 210\n",
            "Mean Value 35.0\n",
            "Standard Deviation 17.07825127659933\n",
            "Sum by Column(axis=0) [50 70 90]\n",
            "Sum by Column(axis=1) [ 60 150]\n",
            "Mean by row [20. 50.]\n"
          ]
        }
      ]
    },
    {
      "cell_type": "code",
      "source": [
        "#Masking and Filtering\n",
        "s=np.array([60,75,80,85,90,45])\n",
        "#Create a boolean marks for scores>=70\n",
        "p=s>=70\n",
        "print(\"Pass Mark:\",p)\n",
        "#filter values using marks\n",
        "print(\"Passing Marks\",s[p])\n",
        "#combine conditions :select scores between 70 and 90\n",
        "print(\"Between 70 and 90\",s[(s>=70)&(s<=90)])"
      ],
      "metadata": {
        "colab": {
          "base_uri": "https://localhost:8080/"
        },
        "id": "TGOGml5UTRC_",
        "outputId": "d4743e3a-9a73-4d35-ce19-3860197f1525"
      },
      "execution_count": null,
      "outputs": [
        {
          "output_type": "stream",
          "name": "stdout",
          "text": [
            "Pass Mark: [False  True  True  True  True False]\n",
            "Passing Marks [75 80 85 90]\n",
            "Between 70 and 90 [75 80 85 90]\n"
          ]
        }
      ]
    },
    {
      "cell_type": "code",
      "source": [
        "#use np.where to assign labels\n",
        "l=np.where(s>=70,\"Pass\",\"Fail\")\n",
        "print(\"Labels:\",l)"
      ],
      "metadata": {
        "colab": {
          "base_uri": "https://localhost:8080/"
        },
        "id": "GM9h3z0xVXYI",
        "outputId": "e6b1baa5-6f8d-49e0-d677-685f8bb82782"
      },
      "execution_count": null,
      "outputs": [
        {
          "output_type": "stream",
          "name": "stdout",
          "text": [
            "Labels: ['Fail' 'Pass' 'Pass' 'Pass' 'Pass' 'Fail']\n"
          ]
        }
      ]
    },
    {
      "cell_type": "code",
      "source": [
        "#create an array with nan values\n",
        "d=np.array([6.0,np.nan,7.0,np.nan,5.0])\n",
        "#detect nan positions\n",
        "print(\"Nan Mask:\",np.isnan(d))\n",
        "#aggregate safely while ignoring nans\n",
        "print(\"Mean ignoring nans\",np.nanmean(d))\n",
        "#Replace nans with 0\n",
        "f=np.nan_to_num(d,nan=0.0)\n",
        "print(\"Replaced nans with 0\",f)"
      ],
      "metadata": {
        "colab": {
          "base_uri": "https://localhost:8080/"
        },
        "id": "OfwhClFYWK1B",
        "outputId": "05cb9d62-4b67-445e-b85e-970fd3219fda"
      },
      "execution_count": null,
      "outputs": [
        {
          "output_type": "stream",
          "name": "stdout",
          "text": [
            "Nan Mask: [False  True False  True False]\n",
            "Mean ignoring nans 6.0\n",
            "Replaced nans with 0 [6. 0. 7. 0. 5.]\n"
          ]
        }
      ]
    },
    {
      "cell_type": "code",
      "source": [
        "#create a 1D array of 12 elemnts\n",
        "a=np.arange(12)\n",
        "print(\"Original array:\",a)\n",
        "r=a.reshape(3,4)\n",
        "print(\"Reshaped array\",r)\n",
        "ra=r.ravel()\n",
        "f=r.flatten()\n",
        "print(\"Raveled (1Dview):\",ra)\n",
        "print(\"Flattened (1D copy):\",f)"
      ],
      "metadata": {
        "colab": {
          "base_uri": "https://localhost:8080/"
        },
        "id": "qs2e2zSAX_Qo",
        "outputId": "3c99942a-6086-4e27-ad43-3f7ea12b7ac1"
      },
      "execution_count": null,
      "outputs": [
        {
          "output_type": "stream",
          "name": "stdout",
          "text": [
            "Original array: [ 0  1  2  3  4  5  6  7  8  9 10 11]\n",
            "Reshaped array [[ 0  1  2  3]\n",
            " [ 4  5  6  7]\n",
            " [ 8  9 10 11]]\n",
            "Raveled (1Dview): [ 0  1  2  3  4  5  6  7  8  9 10 11]\n",
            "Flattened (1D copy): [ 0  1  2  3  4  5  6  7  8  9 10 11]\n"
          ]
        }
      ]
    },
    {
      "cell_type": "code",
      "source": [
        "print(\"Transpose array: \\n\",r.T)\n",
        "#convert one row into a column\n",
        "m=r[0]\n",
        "m_c=m.reshape(-1,1)\n",
        "print(\"Column Vector: \\n\",m_c)\n",
        "#convert back to row\n",
        "m_r=m_c.reshape(1,-1)\n",
        "print(\"Row Vector: \\n\",m_r)"
      ],
      "metadata": {
        "colab": {
          "base_uri": "https://localhost:8080/"
        },
        "id": "w44kRF-DaXS_",
        "outputId": "4b2d94f9-0fd7-4df5-b2bd-45a40a900322"
      },
      "execution_count": null,
      "outputs": [
        {
          "output_type": "stream",
          "name": "stdout",
          "text": [
            "Transpose array: \n",
            " [[ 0  4  8]\n",
            " [ 1  5  9]\n",
            " [ 2  6 10]\n",
            " [ 3  7 11]]\n",
            "Column Vector: \n",
            " [[0]\n",
            " [1]\n",
            " [2]\n",
            " [3]]\n",
            "Row Vector: \n",
            " [[0 1 2 3]]\n"
          ]
        }
      ]
    },
    {
      "cell_type": "code",
      "source": [
        "#combining arrays\n",
        "a=np.array([[1,2],[3,4]])\n",
        "b=np.array([[5,6],[7,8]])\n",
        "#horizontal stack among columns\n",
        "h=np.hstack((a,b))\n",
        "print(\"Horizontal Stack: \\n\",h)\n",
        "#vertical stack among rows\n",
        "v=np.vstack((a,b))\n",
        "print(\"Vertical Stack: \\n\",v)\n",
        "#generic concatenate: axis=0 (rows), axis=1(columns)\n",
        "c=np.concatenate((a,b),axis=0)\n",
        "print(\"Concatenate Rows: \\n\",c)\n",
        "c=np.concatenate((a,b),axis=1)\n",
        "print(\"Concatenate Columns: \\n\",c)"
      ],
      "metadata": {
        "colab": {
          "base_uri": "https://localhost:8080/"
        },
        "id": "FH2hrBWOcxMs",
        "outputId": "0a302aed-1aa0-4f80-d61a-be0f468f9fe3"
      },
      "execution_count": null,
      "outputs": [
        {
          "output_type": "stream",
          "name": "stdout",
          "text": [
            "Horizontal Stack: \n",
            " [[1 2 5 6]\n",
            " [3 4 7 8]]\n",
            "Vertical Stack: \n",
            " [[1 2]\n",
            " [3 4]\n",
            " [5 6]\n",
            " [7 8]]\n",
            "Concatenate Rows: \n",
            " [[1 2]\n",
            " [3 4]\n",
            " [5 6]\n",
            " [7 8]]\n",
            "Concatenate Columns: \n",
            " [[1 2 5 6]\n",
            " [3 4 7 8]]\n"
          ]
        }
      ]
    },
    {
      "cell_type": "code",
      "source": [
        "#create a 2Darray\n",
        "a=np.arange(16).reshape(4,4)\n",
        "print(\"Original array: \\n\",a)\n",
        "#split vertically into two 2*4 arrays\n",
        "sv=np.vsplit(a,2)\n",
        "print(\"Vertical Split(2*4 each)\")\n",
        "for s in sv:\n",
        "  print(s)\n",
        "#split horizontally into two 2*4 arrays\n",
        "sr=np.hsplit(a,2)\n",
        "print(\"Horizontal Split(2*4 each)\")\n",
        "for s in sr:\n",
        "  print(s)"
      ],
      "metadata": {
        "colab": {
          "base_uri": "https://localhost:8080/"
        },
        "id": "oN-PE2B3gpbA",
        "outputId": "e9efdfc9-a144-4dcd-fa96-c9074fca8940"
      },
      "execution_count": null,
      "outputs": [
        {
          "output_type": "stream",
          "name": "stdout",
          "text": [
            "Original array: \n",
            " [[ 0  1  2  3]\n",
            " [ 4  5  6  7]\n",
            " [ 8  9 10 11]\n",
            " [12 13 14 15]]\n",
            "Vertical Split(2*4 each)\n",
            "[[0 1 2 3]\n",
            " [4 5 6 7]]\n",
            "[[ 8  9 10 11]\n",
            " [12 13 14 15]]\n",
            "Horizontal Split(2*4 each)\n",
            "[[ 0  1]\n",
            " [ 4  5]\n",
            " [ 8  9]\n",
            " [12 13]]\n",
            "[[ 2  3]\n",
            " [ 6  7]\n",
            " [10 11]\n",
            " [14 15]]\n"
          ]
        }
      ]
    },
    {
      "cell_type": "code",
      "source": [
        "#advanced indexing\n",
        "a=np.array([[10,20,30],[40,50,60],[70,80,90],[100,110,120]])\n",
        "#select rows 0,2 and 3\n",
        "s=a[:,[2,0,1]]\n",
        "print(\"Selected Rows 0,2,3:\\n\",s)\n",
        "#reorder columns\n",
        "r=a[:,[2,0,1]]\n",
        "print(\"Reordered Columns:\\n\",r)"
      ],
      "metadata": {
        "colab": {
          "base_uri": "https://localhost:8080/"
        },
        "id": "_nj7ad1wjJzP",
        "outputId": "abaa11da-f353-40e4-f5fb-2b95d03227fd"
      },
      "execution_count": null,
      "outputs": [
        {
          "output_type": "stream",
          "name": "stdout",
          "text": [
            "Selected Rows 0,2,3:\n",
            " [[ 30  10  20]\n",
            " [ 60  40  50]\n",
            " [ 90  70  80]\n",
            " [120 100 110]]\n",
            "Reordered Columns:\n",
            " [[ 30  10  20]\n",
            " [ 60  40  50]\n",
            " [ 90  70  80]\n",
            " [120 100 110]]\n"
          ]
        }
      ]
    },
    {
      "cell_type": "code",
      "source": [
        "d=np.array([45,512,89,33])\n",
        "print(\"Original Array:\",d)\n",
        "#sorted values\n",
        "print(\"Sorted Values:\",np.sort(d))\n",
        "print(\"Sorted Indices:\",np.argsort(d))\n",
        "print(\"Data sorted using indices:\",d[np.argsort(d)])"
      ],
      "metadata": {
        "colab": {
          "base_uri": "https://localhost:8080/"
        },
        "id": "03sSNYSfkOWk",
        "outputId": "18c3271c-eb04-43df-db7c-d7f1b99d4378"
      },
      "execution_count": null,
      "outputs": [
        {
          "output_type": "stream",
          "name": "stdout",
          "text": [
            "Original Array: [45 12 89 33]\n",
            "Sorted Values: [12 33 45 89]\n",
            "Sorted Indices: [1 3 0 2]\n",
            "Data sorted using indices: [12 33 45 89]\n"
          ]
        }
      ]
    },
    {
      "cell_type": "code",
      "source": [
        "#derived insights and data processing workflows\n",
        "#simulated sales data (rows=products colums=months)\n",
        "import numpy as np\n",
        "s=np.array([\n",
        "    [200,220,250,300],#product a\n",
        "     [150,160,170,190],#product b\n",
        "      [300,330,360,390]#product c\n",
        "    ])\n",
        "#Row wise sum\n",
        "rs=np.sum(s,axis=1)\n",
        "print(\"Total Sales per Product: \\n\",rs)\n",
        "#Column mean\n",
        "cm=np.mean(s,axis=0)\n",
        "print(\"Average Monthly Sales: \\n\",cm)\n",
        "#percent change across months\n",
        "#(current-previous)/previous\n",
        "pc=(s[:,1:]-s[:,:-1])/s[:,:-1]\n",
        "print(\"Percentage change \\n\",pc)\n",
        "print(\"Full mat \\n\",s)\n",
        "print(\"Part mat \\n\",s[:,1:])\n",
        "print(\"Part mat2 \\n\",s[:,:-1])"
      ],
      "metadata": {
        "colab": {
          "base_uri": "https://localhost:8080/"
        },
        "id": "PQgeRzD1Ss0r",
        "outputId": "c68cf0d2-fe0e-422a-ed8b-fb4b8e9a7773"
      },
      "execution_count": null,
      "outputs": [
        {
          "output_type": "stream",
          "name": "stdout",
          "text": [
            "Total Sales per Product: \n",
            " [ 970  670 1380]\n",
            "Average Monthly Sales: \n",
            " [216.66666667 236.66666667 260.         293.33333333]\n",
            "Percentage change \n",
            " [[0.1        0.13636364 0.2       ]\n",
            " [0.06666667 0.0625     0.11764706]\n",
            " [0.1        0.09090909 0.08333333]]\n",
            "Full mat \n",
            " [[200 220 250 300]\n",
            " [150 160 170 190]\n",
            " [300 330 360 390]]\n",
            "Part mat \n",
            " [[220 250 300]\n",
            " [160 170 190]\n",
            " [330 360 390]]\n",
            "Part mat2 \n",
            " [[200 220 250]\n",
            " [150 160 170]\n",
            " [300 330 360]]\n"
          ]
        }
      ]
    },
    {
      "cell_type": "code",
      "source": [
        "#set seed for reproductibility\n",
        "np.random.seed(3)\n",
        "#Random Integers\n",
        "r_ints=np.random.randint(1,100,size=(3,4))\n",
        "print(\"Random Integers: \\n\",r_ints)\n",
        "#Normally distributed values(mean=0,std=1)\n",
        "ns=np.random.normal(loc=0,scale=1,size=5)\n",
        "print(\"Normal Samples:\",ns)\n",
        "#random choices from list\n",
        "o=['a','b','c']\n",
        "c=np.random.choice(o,size=5,replace=True)\n",
        "print(\"Random Choices:\",c)\n"
      ],
      "metadata": {
        "colab": {
          "base_uri": "https://localhost:8080/"
        },
        "id": "YNG_LfnUZ5nQ",
        "outputId": "c9e7c817-897c-40ee-f7e3-923563d2b2f5"
      },
      "execution_count": null,
      "outputs": [
        {
          "output_type": "stream",
          "name": "stdout",
          "text": [
            "Random Integers: \n",
            " [[25  4 57 73]\n",
            " [ 1 22 20 75]\n",
            " [42 11 22 39]]\n",
            "Normal Samples: [-0.46004212 -0.05792084  2.07757414 -0.60131248  0.93923639]\n",
            "Random Choices: ['c' 'a' 'b' 'c' 'b']\n"
          ]
        }
      ]
    },
    {
      "cell_type": "code",
      "source": [],
      "metadata": {
        "id": "i0D1DhkQe6Q4"
      },
      "execution_count": null,
      "outputs": []
    }
  ]
}