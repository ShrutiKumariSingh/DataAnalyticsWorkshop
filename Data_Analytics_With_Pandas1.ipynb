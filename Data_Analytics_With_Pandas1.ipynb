{
  "cells": [
    {
      "cell_type": "code",
      "execution_count": null,
      "metadata": {
        "colab": {
          "base_uri": "https://localhost:8080/"
        },
        "id": "Q520q8Z4jzgr",
        "outputId": "e434847c-749a-4109-acd0-a051974d8bf7"
      },
      "outputs": [
        {
          "name": "stdout",
          "output_type": "stream",
          "text": [
            "Pandas is successfully imported version 2.2.2\n"
          ]
        }
      ],
      "source": [
        "import pandas as pd\n",
        "#lets verify it works by checking the version\n",
        "print(\"Pandas is successfully imported version\",pd.__version__)"
      ]
    },
    {
      "cell_type": "code",
      "execution_count": null,
      "metadata": {
        "colab": {
          "base_uri": "https://localhost:8080/"
        },
        "id": "abrkxCPglrpW",
        "outputId": "bac2ecb2-35a1-4c33-eebd-90fe9a15565d"
      },
      "outputs": [
        {
          "name": "stdout",
          "output_type": "stream",
          "text": [
            "Resulatant Empty Series: \n",
            " Series([], dtype: object)\n"
          ]
        }
      ],
      "source": [
        "#create an empty series\n",
        "#import the pandas library and aliasing as pd\n",
        "import pandas as pd\n",
        "s=pd.Series()\n",
        "print(\"Resulatant Empty Series: \\n\",s)\n"
      ]
    },
    {
      "cell_type": "code",
      "execution_count": null,
      "metadata": {
        "colab": {
          "base_uri": "https://localhost:8080/"
        },
        "id": "EWPLg2E-mhia",
        "outputId": "1f5793ae-6c7c-49cd-8926-5f06599db386"
      },
      "outputs": [
        {
          "name": "stdout",
          "output_type": "stream",
          "text": [
            "Monthly active users: \n",
            "  0    1500\n",
            "1    1800\n",
            "2    2100\n",
            "3    2500\n",
            "4    3000\n",
            "dtype: int64\n"
          ]
        }
      ],
      "source": [
        "#creating a series from python list\n",
        "#Step 1:Import pandas\n",
        "import pandas as pd\n",
        "#create a basic Python list of monthly active users (MAU s) for an app\n",
        "mau_list=[1500,1800,2100,2500,3000]\n",
        "#Create a pandas series from the list\n",
        "monthly_series=pd.Series(mau_list)\n",
        "#print the series\n",
        "print(\"Monthly active users: \\n \",monthly_series)"
      ]
    },
    {
      "cell_type": "code",
      "execution_count": null,
      "metadata": {
        "colab": {
          "base_uri": "https://localhost:8080/"
        },
        "id": "aLDfEeTonjbf",
        "outputId": "ef2ba5c5-7c84-4cf5-d174-b15f12c99f3d"
      },
      "outputs": [
        {
          "name": "stdout",
          "output_type": "stream",
          "text": [
            "Daily Sales Data:\n",
            " Mon    100\n",
            "Tue    200\n",
            "Wed    300\n",
            "Thu    400\n",
            "Fri    500\n",
            "dtype: int64\n"
          ]
        }
      ],
      "source": [
        "#creating series from numpy array with customize index\n",
        "import numpy as np\n",
        "import pandas as pd\n",
        "#step 1: create a numpy array with daily sales numbers\n",
        "daily_sales_array = np.array([100, 200, 300, 400, 500])\n",
        "#step 2: create a series from the numpy array\n",
        "daily_sales = pd.Series(daily_sales_array,index=  [\"Mon\", \"Tue\", \"Wed\", \"Thu\", \"Fri\"])\n",
        "#step 3: print the series\n",
        "print(\"Daily Sales Data: \\n\",daily_sales)"
      ]
    },
    {
      "cell_type": "code",
      "execution_count": null,
      "metadata": {
        "colab": {
          "base_uri": "https://localhost:8080/"
        },
        "id": "qubVUmFjpXnv",
        "outputId": "01056e8f-6f80-4e16-fba3-318261dba12c"
      },
      "outputs": [
        {
          "name": "stdout",
          "output_type": "stream",
          "text": [
            "Population Data: \n",
            " India     1400\n",
            "USA        332\n",
            "China     1441\n",
            "Brazil     214\n",
            "dtype: int64\n"
          ]
        }
      ],
      "source": [
        "#create a dictionary representing country populations in  millions\n",
        "pop_dict={'India':1400,'USA':332,'China':1441,'Brazil':214}\n",
        "#creating series from dictionary\n",
        "ps=pd.Series(pop_dict)\n",
        "print(\"Population Data: \\n\",ps)"
      ]
    },
    {
      "cell_type": "code",
      "execution_count": null,
      "metadata": {
        "colab": {
          "base_uri": "https://localhost:8080/"
        },
        "id": "T3EJVbe7qPdQ",
        "outputId": "1077db48-690e-402d-e662-1c6a66d73db7"
      },
      "outputs": [
        {
          "name": "stdout",
          "output_type": "stream",
          "text": [
            "Price of Product A across X branches \n",
            " Miami          999\n",
            "Los Angeles    999\n",
            "Chicago        999\n",
            "Denmark        999\n",
            "dtype: int64\n"
          ]
        }
      ],
      "source": [
        "#creating series from scalar value\n",
        "#Representing a single product price applied across 4 branches\n",
        "p=pd.Series(999,index=['Miami','Los Angeles','Chicago','Denmark'])\n",
        "print(\"Price of Product A across X branches \\n\",p)"
      ]
    },
    {
      "cell_type": "code",
      "execution_count": null,
      "metadata": {
        "colab": {
          "base_uri": "https://localhost:8080/"
        },
        "id": "Djlx2Bdpq08t",
        "outputId": "d1396748-b349-499e-e90a-4400c2a8b216"
      },
      "outputs": [
        {
          "name": "stdout",
          "output_type": "stream",
          "text": [
            "January revenue: \n",
            " 20\n",
            "May revenue: \n",
            " 35\n"
          ]
        },
        {
          "name": "stderr",
          "output_type": "stream",
          "text": [
            "/tmp/ipython-input-11-3855631740.py:5: FutureWarning: Series.__getitem__ treating keys as positions is deprecated. In a future version, integer keys will always be treated as labels (consistent with DataFrame behavior). To access a value by position, use `ser.iloc[pos]`\n",
            "  print(\"January revenue: \\n\",monthly_revenue[0])\n",
            "/tmp/ipython-input-11-3855631740.py:6: FutureWarning: Series.__getitem__ treating keys as positions is deprecated. In a future version, integer keys will always be treated as labels (consistent with DataFrame behavior). To access a value by position, use `ser.iloc[pos]`\n",
            "  print(\"May revenue: \\n\",monthly_revenue[-1])\n"
          ]
        }
      ],
      "source": [
        "#Accessing the series elements by position\n",
        "import pandas as pd\n",
        "#step 1:create a series with monthly data revenue\n",
        "monthly_revenue=pd.Series([20,25,30,20,35],index=['jan','feb','mar','apr','may'])\n",
        "print(\"January revenue: \\n\",monthly_revenue[0])\n",
        "print(\"May revenue: \\n\",monthly_revenue[-1])"
      ]
    },
    {
      "cell_type": "code",
      "execution_count": null,
      "metadata": {
        "colab": {
          "base_uri": "https://localhost:8080/"
        },
        "id": "nRJxjIeiscKC",
        "outputId": "352d6fd8-0255-4c7d-975a-f2a1b69789f7"
      },
      "outputs": [
        {
          "name": "stdout",
          "output_type": "stream",
          "text": [
            "Monthly revenye: \n",
            " 30\n"
          ]
        }
      ],
      "source": [
        "#Accessing by Label\n",
        "import pandas as pd\n",
        "#step 1:create a series with monthly data revenue\n",
        "monthly_revenue=pd.Series([20,25,30,20,35],index=['jan','feb','mar','apr','may'])\n",
        "#access value for march directly using label\n",
        "print(\"Monthly revenye: \\n\",monthly_revenue['mar'])"
      ]
    },
    {
      "cell_type": "code",
      "execution_count": null,
      "metadata": {
        "colab": {
          "base_uri": "https://localhost:8080/"
        },
        "id": "a56UrJSvtQPQ",
        "outputId": "4c8ab607-5d66-4df1-cd09-444757ccc97a"
      },
      "outputs": [
        {
          "name": "stdout",
          "output_type": "stream",
          "text": [
            "Slicing [1:0:2](tues to sat alternate days)\n",
            " tue    125\n",
            "thu    124\n",
            "sat    140\n",
            "dtype: int64\n",
            "Slicing [2:5](wed to fri)\n",
            " wed    130\n",
            "thu    124\n",
            "fri    135\n",
            "dtype: int64\n",
            "Slicing [3:(thurs to sun)\n",
            " thu    124\n",
            "fri    135\n",
            "sat    140\n",
            "sun    180\n",
            "dtype: int64\n",
            "Slicing [:4](mon to thu)\n",
            " mon    120\n",
            "tue    125\n",
            "wed    130\n",
            "thu    124\n",
            "dtype: int64\n",
            "Slicing [:](all days)\n",
            " mon    120\n",
            "tue    125\n",
            "wed    130\n",
            "thu    124\n",
            "fri    135\n",
            "sat    140\n",
            "sun    180\n",
            "dtype: int64\n"
          ]
        }
      ],
      "source": [
        "#Slicing using positions\n",
        "import pandas as pd\n",
        "#step 1:create a showing number of passengers\n",
        "p=pd.Series([120,125,130,124,135,140,180],index=['mon','tue','wed','thu','fri','sat','sun'])\n",
        "#apply various slicing techniques\n",
        "print(\"Slicing [1:0:2](tues to sat alternate days)\\n\",p[1:6:2])\n",
        "print(\"Slicing [2:5](wed to fri)\\n\",p[2:5])\n",
        "print(\"Slicing [3:(thurs to sun)\\n\",p[3:])\n",
        "print(\"Slicing [:4](mon to thu)\\n\",p[:4])\n",
        "print(\"Slicing [:](all days)\\n\",p[:])"
      ]
    },
    {
      "cell_type": "code",
      "execution_count": null,
      "metadata": {
        "colab": {
          "base_uri": "https://localhost:8080/"
        },
        "id": "zJS5V07Yv3CV",
        "outputId": "6f3a57fb-95c6-48b8-8802-1021104bbbde"
      },
      "outputs": [
        {
          "name": "stdout",
          "output_type": "stream",
          "text": [
            "Selected Sales: \n",
            " 2025-04-04    124\n",
            "2025-04-05    135\n",
            "2025-04-06    140\n",
            "2025-04-17    180\n",
            "dtype: int64\n"
          ]
        }
      ],
      "source": [
        "#slicing a pandas series using index labels\n",
        "import pandas as pd\n",
        "#create a series of daily ticket sales(in thousands) over a week\n",
        "ticket_sales=pd.Series([120,125,130,124,135,140,180],index=['2025-04-01','2025-04-02','2025-04-03','2025-04-04','2025-04-05','2025-04-06','2025-04-17'])\n",
        "#slice sales from april 04 to april 17\n",
        "selected=ticket_sales['2025-04-04':'2025-04-17']\n",
        "print(\"Selected Sales: \\n\",selected)\n"
      ]
    },
    {
      "cell_type": "code",
      "execution_count": null,
      "metadata": {
        "colab": {
          "base_uri": "https://localhost:8080/"
        },
        "id": "baVQuQpcyBDh",
        "outputId": "986610a6-ca96-40d6-cdfa-0934664885f2"
      },
      "outputs": [
        {
          "name": "stdout",
          "output_type": "stream",
          "text": [
            "Days with crowd \n",
            " fri    135\n",
            "sat    140\n",
            "sun    180\n",
            "dtype: int64\n"
          ]
        }
      ],
      "source": [
        "#conditional access using boolean indexing\n",
        "h=p[p>130]\n",
        "print(\"Days with crowd \\n\",h)"
      ]
    },
    {
      "cell_type": "code",
      "execution_count": null,
      "metadata": {
        "colab": {
          "base_uri": "https://localhost:8080/"
        },
        "id": "-4CzgxyXy0XD",
        "outputId": "0916a036-9f53-4d57-a929-97fdaf55c34b"
      },
      "outputs": [
        {
          "name": "stdout",
          "output_type": "stream",
          "text": [
            "Data not found\n"
          ]
        }
      ],
      "source": [
        "#access using .get() to avoid errors\n",
        "import pandas as pd\n",
        "# create a series of average delay times(in  minutes )for flights over a week\n",
        "print(p.get('wes',\"Data not found\"))"
      ]
    },
    {
      "cell_type": "code",
      "execution_count": null,
      "metadata": {
        "colab": {
          "base_uri": "https://localhost:8080/"
        },
        "id": "5rq8bJrgzth9",
        "outputId": "90371584-4faf-4f4d-9d00-5e210cb5d02b"
      },
      "outputs": [
        {
          "name": "stdout",
          "output_type": "stream",
          "text": [
            "Data type int64\n",
            "Total records: (4,)\n",
            "Index Labels: Index(['India', 'USA', 'China', 'Brazil'], dtype='object')\n"
          ]
        }
      ],
      "source": [
        "#example using all three attributes -dtype, shape and index of the series\n",
        "print(\"Data type\",ps.dtype)\n",
        "print(\"Total records:\",ps.shape)\n",
        "print(\"Index Labels:\",ps.index)"
      ]
    },
    {
      "cell_type": "code",
      "execution_count": null,
      "metadata": {
        "colab": {
          "base_uri": "https://localhost:8080/"
        },
        "id": "9GLjgKCm1sHo",
        "outputId": "6bdd9a7a-3504-483c-e7a5-89aecccd5f5d"
      },
      "outputs": [
        {
          "name": "stdout",
          "output_type": "stream",
          "text": [
            "Cost\n",
            " jan    12000\n",
            "feb    13500\n",
            "mar    11000\n",
            "apr    14500\n",
            "may    15000\n",
            "jun    12500\n",
            "dtype: int64\n",
            "Months with cost>13k\n",
            " jan    False\n",
            "feb     True\n",
            "mar    False\n",
            "apr     True\n",
            "may     True\n",
            "jun    False\n",
            "dtype: bool\n",
            "Outlier months\n",
            " jan    False\n",
            "feb    False\n",
            "mar     True\n",
            "apr    False\n",
            "may     True\n",
            "jun    False\n",
            "dtype: bool\n",
            "Within Budget\n",
            " jan     True\n",
            "feb    False\n",
            "mar     True\n",
            "apr    False\n",
            "may    False\n",
            "jun     True\n",
            "dtype: bool\n",
            "Filtered high costs:\n",
            " feb    13500\n",
            "apr    14500\n",
            "may    15000\n",
            "dtype: int64\n",
            "Using where\n",
            " jan        NaN\n",
            "feb    13500.0\n",
            "mar        NaN\n",
            "apr    14500.0\n",
            "may    15000.0\n",
            "jun        NaN\n",
            "dtype: float64\n",
            "Using mask\n",
            " jan        NaN\n",
            "feb    13500.0\n",
            "mar        NaN\n",
            "apr    14500.0\n",
            "may    15000.0\n",
            "jun        NaN\n",
            "dtype: float64\n",
            "Using clip\n",
            " jan    12000\n",
            "feb    13500\n",
            "mar    12000\n",
            "apr    14500\n",
            "may    14500\n",
            "jun    12500\n",
            "dtype: int64\n"
          ]
        }
      ],
      "source": [
        "# Logical Operations on Series\n",
        "#Monthly Cloud Costs\n",
        "c=pd.Series([12000,13500,11000,14500,15000,12500],index=['jan','feb','mar','apr','may','jun'])\n",
        "#find where cost exceeds 13000\n",
        "h=c>13000\n",
        "#outlier months where cost is either below 12k and 14.5k\n",
        "outlier_months=(c<12000)|(c>14500)\n",
        "#negate condition find months not exceeding 12k\n",
        "w=~h\n",
        "#use boolean mask to extract high cost values\n",
        "f=c[h]\n",
        "#use where() to keep values only above 13k others become nan\n",
        "where_example=c.where(c>13000)\n",
        "#use mask to hide costs below 13000\n",
        "mask=c.mask(c<13000)\n",
        "#use clip to restrict all values between 12k and 14k\n",
        "clip_example=c.clip(lower=12000,upper=14500)\n",
        "#print everything\n",
        "print(\"Cost\\n\",c)\n",
        "print(\"Months with cost>13k\\n\",h)\n",
        "print(\"Outlier months\\n\",outlier_months)\n",
        "print(\"Within Budget\\n\",w)\n",
        "print(\"Filtered high costs:\\n\",f)\n",
        "print(\"Using where\\n\",where_example)\n",
        "print(\"Using mask\\n\",mask)\n",
        "print(\"Using clip\\n\",clip_example)\n",
        "\n"
      ]
    },
    {
      "cell_type": "code",
      "execution_count": null,
      "metadata": {
        "colab": {
          "base_uri": "https://localhost:8080/"
        },
        "id": "ef85FCNCCXqI",
        "outputId": "f023f3d8-c025-4715-914d-c95926ad2e3d"
      },
      "outputs": [
        {
          "name": "stdout",
          "output_type": "stream",
          "text": [
            "Before mapping:\n",
            " 0     HR\n",
            "1    ENG\n",
            "2    MKT\n",
            "3     HR\n",
            "4    FIN\n",
            "5    ENG\n",
            "dtype: object\n",
            "Mapped:\n",
            "  0    Human Resource\n",
            "1       Engineering\n",
            "2         Marketing\n",
            "3    Human Resource\n",
            "4           Finance\n",
            "5       Engineering\n",
            "dtype: object\n"
          ]
        }
      ],
      "source": [
        "#Mapping Department codes to names in a payroll system\n",
        "#Department codes of employees\n",
        "department_codes=pd.Series(['HR','ENG','MKT','HR','FIN','ENG'])\n",
        "#Mapping to Full department names\n",
        "dept_names={'HR':'Human Resource','ENG':'Engineering','MKT':'Marketing','FIN':'Finance'}\n",
        "print(\"Before mapping:\\n\",department_codes)\n",
        "#mapping with map\n",
        "mapped=department_codes.map(dept_names)\n",
        "print(\"Mapped:\\n \",mapped)"
      ]
    },
    {
      "cell_type": "code",
      "execution_count": null,
      "metadata": {
        "colab": {
          "base_uri": "https://localhost:8080/"
        },
        "id": "sD-ZRQ0KENnK",
        "outputId": "a9d876bb-17ff-40ae-e5b5-eea82c2eb481"
      },
      "outputs": [
        {
          "name": "stdout",
          "output_type": "stream",
          "text": [
            "  Patient ID:  Age  Cholesterol_mg_dL  On-Statins\n",
            "0        P101   45                190        True\n",
            "1        P102   54                205       False\n",
            "2        P103   38                170        True\n",
            "3        P104   92                180       False\n",
            "4        P105   50                160        True\n",
            "5        P106   25                110       False\n",
            "6        P107   26                150       False\n",
            "7        P108   78                190        True\n",
            "8        P109   90                187        True\n",
            "9        P110   47                168       False\n"
          ]
        }
      ],
      "source": [
        "#creating data frame from dictionary\n",
        "import pandas as pd\n",
        "import numpy as np\n",
        "#create a dictionary of keys representing column names where each key has values which corresponds to their health\n",
        "cd={'Patient ID:':['P101','P102','P103','P104','P105','P106','P107','P108','P109','P110'],\n",
        "    'Age':[45,54,38,92,50,25,26,78,90,47],\n",
        "    'Cholesterol_mg_dL':[190,205,170,180,160,110,150,190,187,168],\n",
        "    'On-Statins':[True,False,True,False,True,False,False,True,True,False]\n",
        "    }\n",
        "df_medical=pd.DataFrame(cd)\n",
        "print(df_medical)"
      ]
    },
    {
      "cell_type": "code",
      "execution_count": null,
      "metadata": {
        "colab": {
          "base_uri": "https://localhost:8080/"
        },
        "id": "RJcLD7n0GEND",
        "outputId": "b204ba8f-1786-4a21-c21f-b31bb710f40c"
      },
      "outputs": [
        {
          "name": "stdout",
          "output_type": "stream",
          "text": [
            "   0\n",
            "0  1\n",
            "1  2\n",
            "2  3\n",
            "3  4\n",
            "4  5\n",
            "    0\n",
            "0   1\n",
            "1   2\n",
            "2   3\n",
            "3   4\n",
            "4   5\n",
            "5   6\n",
            "6   7\n",
            "7   8\n",
            "8   9\n",
            "9  10\n"
          ]
        }
      ],
      "source": [
        "#creating data frame from list\n",
        "data=[1,2,3,4,5]\n",
        "df=pd.DataFrame(data)\n",
        "print(df)\n",
        "#creating dataframe from numpy array\n",
        "data=np.array([1,2,3,4,5,6,7,8,9,10])\n",
        "df=pd.DataFrame(data)\n",
        "print(df)"
      ]
    },
    {
      "cell_type": "code",
      "execution_count": null,
      "metadata": {
        "colab": {
          "base_uri": "https://localhost:8080/"
        },
        "id": "Zea7fMkdGibj",
        "outputId": "da9cd987-f722-4845-9711-0a98369019ea"
      },
      "outputs": [
        {
          "name": "stdout",
          "output_type": "stream",
          "text": [
            "  Patient ID:  Age  Cholesterol_mg_dL  On-Statins\n",
            "0        P101   45                190        True\n",
            "1        P102   54                205       False\n",
            "2        P103   38                170        True\n",
            "3        P104   92                180       False\n",
            "4        P105   50                160        True\n"
          ]
        }
      ],
      "source": [
        "#Creating dataframe from CSV file\n",
        "df_medical.to_csv('cd.csv',index=False)\n",
        "df_loaded=pd.read_csv('cd.csv')\n",
        "print(df_loaded)"
      ]
    },
    {
      "cell_type": "code",
      "execution_count": null,
      "metadata": {
        "colab": {
          "base_uri": "https://localhost:8080/"
        },
        "id": "h88-jGT3II81",
        "outputId": "48838961-1511-4ae6-bf8b-f2ca15806710"
      },
      "outputs": [
        {
          "name": "stdout",
          "output_type": "stream",
          "text": [
            "<class 'pandas.core.frame.DataFrame'>\n",
            "RangeIndex: 10 entries, 0 to 9\n",
            "Data columns (total 4 columns):\n",
            " #   Column             Non-Null Count  Dtype \n",
            "---  ------             --------------  ----- \n",
            " 0   Patient ID:        10 non-null     object\n",
            " 1   Age                10 non-null     int64 \n",
            " 2   Cholesterol_mg_dL  10 non-null     int64 \n",
            " 3   On-Statins         10 non-null     bool  \n",
            "dtypes: bool(1), int64(2), object(1)\n",
            "memory usage: 382.0+ bytes\n",
            "Describe the dataframe \n",
            "              Age  Cholesterol_mg_dL\n",
            "count  10.000000          10.000000\n",
            "mean   54.500000         171.000000\n",
            "std    24.359575          26.890725\n",
            "min    25.000000         110.000000\n",
            "25%    39.750000         162.000000\n",
            "50%    48.500000         175.000000\n",
            "75%    72.000000         189.250000\n",
            "max    92.000000         205.000000\n",
            "\n",
            " Detailed Description of the dataframe\n",
            "        Patient ID:        Age  Cholesterol_mg_dL On-Statins\n",
            "count           10  10.000000          10.000000         10\n",
            "unique          10        NaN                NaN          2\n",
            "top           P101        NaN                NaN       True\n",
            "freq             1        NaN                NaN          5\n",
            "mean           NaN  54.500000         171.000000        NaN\n",
            "std            NaN  24.359575          26.890725        NaN\n",
            "min            NaN  25.000000         110.000000        NaN\n",
            "25%            NaN  39.750000         162.000000        NaN\n",
            "50%            NaN  48.500000         175.000000        NaN\n",
            "75%            NaN  72.000000         189.250000        NaN\n",
            "max            NaN  92.000000         205.000000        NaN\n"
          ]
        }
      ],
      "source": [
        "#view first 5 rows of the dataframe\n",
        "\n",
        "df_medical.info()\n",
        "print(\"Describe the dataframe \\n\",df_medical.describe())\n",
        "print(\"\\n Detailed Description of the dataframe\\n\",df_medical.describe(include='all'))"
      ]
    },
    {
      "cell_type": "code",
      "execution_count": null,
      "metadata": {
        "colab": {
          "base_uri": "https://localhost:8080/"
        },
        "id": "nJ_G3WrlMPzS",
        "outputId": "d03ff520-bfe2-4262-d2ea-c7050110a28c"
      },
      "outputs": [
        {
          "name": "stdout",
          "output_type": "stream",
          "text": [
            "  Patient ID:  Age\n",
            "0        P101   45\n",
            "1        P102   54\n",
            "2        P103   38\n",
            "3        P104   92\n",
            "4        P105   50\n",
            "5        P106   25\n",
            "6        P107   26\n",
            "7        P108   78\n",
            "8        P109   90\n",
            "9        P110   47\n",
            "Patients that are on statins:\n",
            "   Patient ID:  Age  Cholesterol_mg_dL  On-Statins\n",
            "0        P101   45                190        True\n",
            "2        P103   38                170        True\n",
            "4        P105   50                160        True\n",
            "7        P108   78                190        True\n",
            "8        P109   90                187        True\n"
          ]
        }
      ],
      "source": [
        "#loc[] access rows and columns using label(names)\n",
        "#get details of patients\n",
        "da=df_medical.loc[:,['Patient ID:','Age']]\n",
        "print(da)\n",
        "statin=df_medical.loc[df_medical['On-Statins']==True]\n",
        "print(\"Patients that are on statins:\\n\",statin)"
      ]
    },
    {
      "cell_type": "code",
      "execution_count": null,
      "metadata": {
        "colab": {
          "base_uri": "https://localhost:8080/"
        },
        "id": "2zLKcIDbQWF0",
        "outputId": "2b991632-53e9-484d-f380-e8a00454112a"
      },
      "outputs": [
        {
          "name": "stdout",
          "output_type": "stream",
          "text": [
            "  Patient ID:  Age  Cholesterol_mg_dL  On-Statins\n",
            "0        P101   45                190        True\n",
            "1        P102   54                205       False\n",
            "Age and Cholesterol of all the patients:\n",
            "    Age  Cholesterol_mg_dL\n",
            "0   45                190\n",
            "1   54                205\n",
            "2   38                170\n",
            "3   92                180\n",
            "4   50                160\n",
            "5   25                110\n",
            "6   26                150\n",
            "7   78                190\n",
            "8   90                187\n",
            "9   47                168\n"
          ]
        }
      ],
      "source": [
        "#iloc Access rows and colums using positional indices\n",
        "first_two=df_medical.iloc[0:2]\n",
        "print(first_two)\n",
        "age_cholesterol=df_medical.iloc[:,[1,2]]\n",
        "print(\"Age and Cholesterol of all the patients:\\n\",age_cholesterol)"
      ]
    },
    {
      "cell_type": "code",
      "execution_count": null,
      "metadata": {
        "colab": {
          "base_uri": "https://localhost:8080/"
        },
        "id": "fnNtgD8yRlYX",
        "outputId": "41e47b6f-2d42-439d-ef23-360dcca11a19"
      },
      "outputs": [
        {
          "name": "stdout",
          "output_type": "stream",
          "text": [
            "P102\n",
            "Patient ID of first patient:\n",
            " P101\n"
          ]
        }
      ],
      "source": [
        "#at function\n",
        "w=df_medical.at[1,'Patient ID:']\n",
        "print(w)\n",
        "#iat function\n",
        "x=df_medical.iat[0,0]\n",
        "print(\"Patient ID of first patient:\\n\",x)"
      ]
    },
    {
      "cell_type": "code",
      "execution_count": null,
      "metadata": {
        "colab": {
          "base_uri": "https://localhost:8080/"
        },
        "id": "L4Qu1O2TSLMX",
        "outputId": "6c99ae34-13a0-44f4-a8c9-a1d4c60dee22"
      },
      "outputs": [
        {
          "name": "stdout",
          "output_type": "stream",
          "text": [
            "DataFrame after converting age in years into months:\n",
            "   Patient ID:   Age  Cholesterol_mg_dL  On-Statins\n",
            "0        P101   540                190        True\n",
            "1        P102   648                205       False\n",
            "2        P103   456                170        True\n",
            "3        P104  1104                180       False\n",
            "4        P105   600                160        True\n",
            "5        P106   300                110       False\n",
            "6        P107   312                150       False\n",
            "7        P108   936                190        True\n",
            "8        P109  1080                187        True\n",
            "9        P110   564                168       False\n"
          ]
        }
      ],
      "source": [
        "#modify data frame data\n",
        "df_medical['Age']=df_medical['Age']*12\n",
        "print(\"DataFrame after converting age in years into months:\\n\",df_medical)"
      ]
    },
    {
      "cell_type": "code",
      "execution_count": null,
      "metadata": {
        "colab": {
          "base_uri": "https://localhost:8080/"
        },
        "id": "WIJR4eFiVCGB",
        "outputId": "f7a0a3b5-9b05-49e5-8054-939fb8f7f09e"
      },
      "outputs": [
        {
          "name": "stdout",
          "output_type": "stream",
          "text": [
            "On-Statins\n",
            " 0     True\n",
            "1    False\n",
            "2     True\n",
            "3    False\n",
            "4     True\n",
            "5    False\n",
            "6    False\n",
            "7     True\n",
            "8     True\n",
            "9    False\n",
            "Name: On-Statins, dtype: bool\n",
            "On-Statins\n",
            "   Patient ID:   Age  Cholesterol_mg_dL On-Statins\n",
            "0        P101   540                190          1\n",
            "1        P102   648                205      False\n",
            "2        P103   456                170          1\n",
            "3        P104  1104                180      False\n",
            "4        P105   600                160          1\n",
            "5        P106   300                110      False\n",
            "6        P107   312                150      False\n",
            "7        P108   936                190          1\n",
            "8        P109  1080                187          1\n",
            "9        P110   564                168      False\n"
          ]
        },
        {
          "name": "stderr",
          "output_type": "stream",
          "text": [
            "/tmp/ipython-input-70-1194238634.py:2: FutureWarning: Setting an item of incompatible dtype is deprecated and will raise an error in a future version of pandas. Value '1' has dtype incompatible with bool, please explicitly cast to a compatible dtype first.\n",
            "  df_medical.loc[df_medical['On-Statins']==True,'On-Statins']='1'\n"
          ]
        }
      ],
      "source": [
        "print(\"On-Statins\\n\",df_medical['On-Statins'])\n",
        "df_medical.loc[df_medical['On-Statins']==True,'On-Statins']='1'\n",
        "print(\"On-Statins\\n\",df_medical)"
      ]
    },
    {
      "cell_type": "code",
      "execution_count": null,
      "metadata": {
        "colab": {
          "background_save": true
        },
        "id": "X6og4TNlYZh1"
      },
      "outputs": [],
      "source": [
        "df = pd.DataFrame({\n",
        "    'ShipmentID': [1001, 1002, 1003, 1004, 1005],\n",
        "    'Weight_kg': [12.5, 8.0, 15.0, 7.5, 10.0],\n",
        "    'Status': ['Delivered', 'In Transit', 'Delayed', 'Delivered', 'Delayed'],\n",
        "    'Fragile': [True, False, True, False, True],\n",
        "    'Shipping_Type': ['Air', 'Ground', 'Air', 'Ground', 'Air']\n",
        "})"
      ]
    },
    {
      "cell_type": "code",
      "source": [
        "import pandas as pd\n",
        "d= {\n",
        "    \"ShipmentID\": [103, 101, 105, 102, 104],\n",
        "    \"OriginPort\": [\"Shanghai\", \"Rotterdam\", \"Singapore\", \"Dubai\", \"Los Angeles\"],\n",
        "    \"DestinationPort\": [\"New York\", \"Hamburg\", \"London\", \"Tokyo\", \"Mumbai\"],\n",
        "    \"Weight_Tons\": [15.4, 25.1, 12.3, 18.7, 20.5],\n",
        "    \"DepartureDate\": pd.to_datetime([\n",
        "        \"2024-09-01\", \"2024-08-25\", \"2024-09-10\", \"2024-08-28\", \"2024-09-03\"\n",
        "    ])\n",
        "}\n",
        "df=pd.DataFrame(d)\n",
        "print(d)\n",
        "sorted=df.sort_values(by='Weight_Tons',ascending=True)\n",
        "print(\"Sorted by weight:\\n\",sorted)"
      ],
      "metadata": {
        "colab": {
          "base_uri": "https://localhost:8080/"
        },
        "id": "Jjj03pRkdrX0",
        "outputId": "94dd53b9-129d-4ded-e90d-9bd9f445919f"
      },
      "execution_count": null,
      "outputs": [
        {
          "output_type": "stream",
          "name": "stdout",
          "text": [
            "{'ShipmentID': [103, 101, 105, 102, 104], 'OriginPort': ['Shanghai', 'Rotterdam', 'Singapore', 'Dubai', 'Los Angeles'], 'DestinationPort': ['New York', 'Hamburg', 'London', 'Tokyo', 'Mumbai'], 'Weight_Tons': [15.4, 25.1, 12.3, 18.7, 20.5], 'DepartureDate': DatetimeIndex(['2024-09-01', '2024-08-25', '2024-09-10', '2024-08-28',\n",
            "               '2024-09-03'],\n",
            "              dtype='datetime64[ns]', freq=None)}\n",
            "Sorted by weight:\n",
            "    ShipmentID   OriginPort DestinationPort  Weight_Tons DepartureDate\n",
            "2         105    Singapore          London         12.3    2024-09-10\n",
            "0         103     Shanghai        New York         15.4    2024-09-01\n",
            "3         102        Dubai           Tokyo         18.7    2024-08-28\n",
            "4         104  Los Angeles          Mumbai         20.5    2024-09-03\n",
            "1         101    Rotterdam         Hamburg         25.1    2024-08-25\n",
            "Sorted by origin and destination:\n",
            "    ShipmentID   OriginPort DestinationPort  Weight_Tons DepartureDate\n",
            "3         102        Dubai           Tokyo         18.7    2024-08-28\n",
            "4         104  Los Angeles          Mumbai         20.5    2024-09-03\n",
            "1         101    Rotterdam         Hamburg         25.1    2024-08-25\n",
            "0         103     Shanghai        New York         15.4    2024-09-01\n",
            "2         105    Singapore          London         12.3    2024-09-10\n"
          ]
        }
      ]
    },
    {
      "cell_type": "code",
      "source": [
        "#sort by original prt alphabetically and then by weight_tons\n",
        "sort=df.sort_values(by=['OriginPort','Weight_Tons'],ascending=[True,False])\n",
        "print(\"Sorted by origin and weight in tons:\\n\",sort)"
      ],
      "metadata": {
        "colab": {
          "base_uri": "https://localhost:8080/"
        },
        "id": "QoPPhVEPe3gr",
        "outputId": "f6707498-86c7-44ae-ef2d-3b7de2c5b8d5"
      },
      "execution_count": null,
      "outputs": [
        {
          "output_type": "stream",
          "name": "stdout",
          "text": [
            "Sorted by origin and weight in tons:\n",
            "    ShipmentID   OriginPort DestinationPort  Weight_Tons DepartureDate\n",
            "3         102        Dubai           Tokyo         18.7    2024-08-28\n",
            "4         104  Los Angeles          Mumbai         20.5    2024-09-03\n",
            "1         101    Rotterdam         Hamburg         25.1    2024-08-25\n",
            "0         103     Shanghai        New York         15.4    2024-09-01\n",
            "2         105    Singapore          London         12.3    2024-09-10\n"
          ]
        }
      ]
    },
    {
      "cell_type": "code",
      "source": [
        "#set shipment id as index and sort by index\n",
        "s=df.set_index('ShipmentID')\n",
        "sort=s.sort_index()\n",
        "print(\"Sorted by index:\\n\",sort)"
      ],
      "metadata": {
        "colab": {
          "base_uri": "https://localhost:8080/"
        },
        "id": "Z2S_fQBbe94j",
        "outputId": "9ff9dbab-00dd-420d-fa20-0c0e2c0f12e4"
      },
      "execution_count": null,
      "outputs": [
        {
          "output_type": "stream",
          "name": "stdout",
          "text": [
            "Sorted by index:\n",
            "              OriginPort DestinationPort  Weight_Tons DepartureDate\n",
            "ShipmentID                                                        \n",
            "101           Rotterdam         Hamburg         25.1    2024-08-25\n",
            "102               Dubai           Tokyo         18.7    2024-08-28\n",
            "103            Shanghai        New York         15.4    2024-09-01\n",
            "104         Los Angeles          Mumbai         20.5    2024-09-03\n",
            "105           Singapore          London         12.3    2024-09-10\n"
          ]
        }
      ]
    },
    {
      "cell_type": "code",
      "source": [
        "#sort the dataframe by weight tons using quick sort algo\n",
        "sort=df.sort_values(by='Weight_Tons',kind='quicksort')\n",
        "print(\"Sorted by weight using quick sort :\\n\",sort)"
      ],
      "metadata": {
        "colab": {
          "base_uri": "https://localhost:8080/"
        },
        "id": "3tQlEdz-fzE3",
        "outputId": "b09e0815-334a-4508-c594-d75b1bc64903"
      },
      "execution_count": null,
      "outputs": [
        {
          "output_type": "stream",
          "name": "stdout",
          "text": [
            "Sorted by weight using quick sort :\n",
            "    ShipmentID   OriginPort DestinationPort  Weight_Tons DepartureDate\n",
            "2         105    Singapore          London         12.3    2024-09-10\n",
            "0         103     Shanghai        New York         15.4    2024-09-01\n",
            "3         102        Dubai           Tokyo         18.7    2024-08-28\n",
            "4         104  Los Angeles          Mumbai         20.5    2024-09-03\n",
            "1         101    Rotterdam         Hamburg         25.1    2024-08-25\n"
          ]
        }
      ]
    },
    {
      "cell_type": "code",
      "source": [
        "# Original DataFrame with vegetation zones\n",
        "veg_df = pd.DataFrame({\n",
        "    'Zone': ['Tundra', 'Taiga', 'Desert', 'Savanna', 'Rainforest'],\n",
        "    'Continent': ['Arctic', 'Asia', 'Africa', 'Africa', 'South America'],\n",
        "    'Avg_Temp_C': [-10, -5, 35, 28, 26]\n",
        "})\n",
        "print(veg_df)\n",
        "veg_df=veg_df.set_index('Zone')\n",
        "print(\"\\n Original world vegetarian set: \\n\",veg_df)\n",
        "#new desired order of vegetation zones\n",
        "new=['Rainforest','Savanna','Steppe','Desert','Taiga','Tundra']\n",
        "reindex=veg_df.reindex(new)\n",
        "print(\"Reindexed set:\\n\",reindex)"
      ],
      "metadata": {
        "colab": {
          "base_uri": "https://localhost:8080/"
        },
        "id": "kPTdv682gE5U",
        "outputId": "eebab766-aaa1-4fbd-835c-4cd079d08516"
      },
      "execution_count": null,
      "outputs": [
        {
          "output_type": "stream",
          "name": "stdout",
          "text": [
            "         Zone      Continent  Avg_Temp_C\n",
            "0      Tundra         Arctic         -10\n",
            "1       Taiga           Asia          -5\n",
            "2      Desert         Africa          35\n",
            "3     Savanna         Africa          28\n",
            "4  Rainforest  South America          26\n",
            "\n",
            " Original world vegetarian set: \n",
            "                 Continent  Avg_Temp_C\n",
            "Zone                                 \n",
            "Tundra             Arctic         -10\n",
            "Taiga                Asia          -5\n",
            "Desert             Africa          35\n",
            "Savanna            Africa          28\n",
            "Rainforest  South America          26\n",
            "Reindexed set:\n",
            "                 Continent  Avg_Temp_C\n",
            "Zone                                 \n",
            "Rainforest  South America        26.0\n",
            "Savanna            Africa        28.0\n",
            "Steppe                NaN         NaN\n",
            "Desert             Africa        35.0\n",
            "Taiga                Asia        -5.0\n",
            "Tundra             Arctic       -10.0\n"
          ]
        }
      ]
    },
    {
      "cell_type": "code",
      "source": [
        "#reindexing column\n",
        "reindex_column=veg_df.reindex(columns=['Avg_Temp_C','Continent'])\n",
        "print(\"Reindexed column:\\n\",reindex_column)"
      ],
      "metadata": {
        "colab": {
          "base_uri": "https://localhost:8080/"
        },
        "id": "6hwEk7YrlmZI",
        "outputId": "7d7c3c58-420d-45ec-817a-b9feb415766a"
      },
      "execution_count": null,
      "outputs": [
        {
          "output_type": "stream",
          "name": "stdout",
          "text": [
            "Reindexed column:\n",
            "             Avg_Temp_C      Continent\n",
            "Zone                                 \n",
            "Tundra             -10         Arctic\n",
            "Taiga               -5           Asia\n",
            "Desert              35         Africa\n",
            "Savanna             28         Africa\n",
            "Rainforest          26  South America\n"
          ]
        }
      ]
    },
    {
      "cell_type": "code",
      "source": [
        "# fill missing values while reindexing\n",
        "#reindexing and filling the missing values with defaults and printing\n",
        "refill=veg_df.reindex(new,fill_value='Data NA')\n",
        "print(\"Refill missing values:\\n\",refill)"
      ],
      "metadata": {
        "colab": {
          "base_uri": "https://localhost:8080/"
        },
        "id": "ZncGXLrxmIiE",
        "outputId": "d65b2e60-a928-4859-f1f9-b15c6ce11168"
      },
      "execution_count": null,
      "outputs": [
        {
          "output_type": "stream",
          "name": "stdout",
          "text": [
            "Refill missing values:\n",
            "                 Continent Avg_Temp_C\n",
            "Zone                                \n",
            "Rainforest  South America         26\n",
            "Savanna            Africa         28\n",
            "Steppe            Data NA    Data NA\n",
            "Desert             Africa         35\n",
            "Taiga                Asia         -5\n",
            "Tundra             Arctic        -10\n"
          ]
        }
      ]
    },
    {
      "cell_type": "code",
      "source": [
        "#iteration\n",
        "geo_df = pd.DataFrame({\n",
        "    'Region': ['Amazon Basin', 'Sahara Desert', 'Himalayas', 'Great Plains'],\n",
        "    'Elevation_m': [200, 450, 5200, 600],          # Elevation in meters\n",
        "    'Rainfall_mm': [2200, 50, 1200, 900]           # Rainfall in millimeters\n",
        "})\n",
        "for index,row in geo_df.iterrows():\n",
        "    print(f\"Region:{row['Region']},Elevation:{row['Elevation_m']}m\")"
      ],
      "metadata": {
        "colab": {
          "base_uri": "https://localhost:8080/"
        },
        "id": "CYuul2ZTnO3m",
        "outputId": "d2651cda-ba48-4e7e-db7b-47a1fc551abe"
      },
      "execution_count": null,
      "outputs": [
        {
          "output_type": "stream",
          "name": "stdout",
          "text": [
            "Region:Amazon Basin,Elevation:200m\n",
            "Region:Sahara Desert,Elevation:450m\n",
            "Region:Himalayas,Elevation:5200m\n",
            "Region:Great Plains,Elevation:600m\n"
          ]
        }
      ]
    },
    {
      "cell_type": "code",
      "source": [
        "#Iterating with itertuples()\n",
        "#using itertuples for faster row wise iteration\n",
        "for row in geo_df.itertuples(index=False):\n",
        "    print(f\"{row.Region} receives about {row.Rainfall_mm}mm rainfall annually. \")"
      ],
      "metadata": {
        "colab": {
          "base_uri": "https://localhost:8080/"
        },
        "id": "G7qXEXP-pZto",
        "outputId": "2c6810dc-f061-42ef-c265-d64f036a8b65"
      },
      "execution_count": null,
      "outputs": [
        {
          "output_type": "stream",
          "name": "stdout",
          "text": [
            "Amazon Basin receives about 2200mm rainfall annually. \n",
            "Sahara Desert receives about 50mm rainfall annually. \n",
            "Himalayas receives about 1200mm rainfall annually. \n",
            "Great Plains receives about 900mm rainfall annually. \n"
          ]
        }
      ]
    },
    {
      "cell_type": "code",
      "source": [
        "#Column wise iteration with items\n",
        "for column_name,column_data in geo_df.items():\n",
        "  print(f\"\\n Column :{column_name}\")\n",
        "  print(f\"\\n Column data{column_data.tolist()}\")"
      ],
      "metadata": {
        "colab": {
          "base_uri": "https://localhost:8080/"
        },
        "id": "G-Ys-I7WqgNE",
        "outputId": "939d8b64-f063-4272-9635-cb69028b2616"
      },
      "execution_count": null,
      "outputs": [
        {
          "output_type": "stream",
          "name": "stdout",
          "text": [
            "\n",
            " Column :Region\n",
            "\n",
            " Column data['Amazon Basin', 'Sahara Desert', 'Himalayas', 'Great Plains']\n",
            "\n",
            " Column :Elevation_m\n",
            "\n",
            " Column data[200, 450, 5200, 600]\n",
            "\n",
            " Column :Rainfall_mm\n",
            "\n",
            " Column data[2200, 50, 1200, 900]\n"
          ]
        }
      ]
    },
    {
      "cell_type": "code",
      "source": [
        "# Northern climate data\n",
        "north_df = pd.DataFrame({\n",
        "    'Region': ['Arctic Circle', 'Northern Tundra'],\n",
        "    'Avg_Temp_C': [-15, -10],\n",
        "    'Biome': ['Tundra', 'Taiga']\n",
        "})\n",
        "print(\"Northern Climate Data\\n\", north_df)\n",
        "\n",
        "# Southern climate data\n",
        "south_df = pd.DataFrame({\n",
        "    'Region': ['Amazon Basin', 'Patagonian Steppe'],\n",
        "    'Avg_Temp_C': [27, 10],\n",
        "    'Biome': ['Rainforest', 'Steppe']\n",
        "})\n",
        "print(\"\\nSouthern Climate Data\\n\", south_df)\n",
        "#rowwise concatenation of north_df and south_df\n",
        "row = pd.concat([north_df, south_df], axis=0, ignore_index=True)\n",
        "print(\"\\nRow-wise Concatenation:\\n\", row)\n",
        "#columwise concatenation\n",
        "column = pd.concat([north_df, south_df], axis=1)\n",
        "print(\"\\nColumn-wise Concatenation:\\n\", column)\n",
        "#concatenation with keys\n",
        "keys = pd.concat([north_df, south_df], keys=['North', 'South'])\n",
        "print(\"\\nConcatenation with Keys:\\n\", keys)"
      ],
      "metadata": {
        "colab": {
          "base_uri": "https://localhost:8080/"
        },
        "id": "4ouGM417rOgI",
        "outputId": "465e950a-3e8f-4863-8a76-82817b5d2318"
      },
      "execution_count": null,
      "outputs": [
        {
          "output_type": "stream",
          "name": "stdout",
          "text": [
            "Northern Climate Data\n",
            "             Region  Avg_Temp_C   Biome\n",
            "0    Arctic Circle         -15  Tundra\n",
            "1  Northern Tundra         -10   Taiga\n",
            "\n",
            "Southern Climate Data\n",
            "               Region  Avg_Temp_C       Biome\n",
            "0       Amazon Basin          27  Rainforest\n",
            "1  Patagonian Steppe          10      Steppe\n",
            "\n",
            "Row-wise Concatenation:\n",
            "               Region  Avg_Temp_C       Biome\n",
            "0      Arctic Circle         -15      Tundra\n",
            "1    Northern Tundra         -10       Taiga\n",
            "2       Amazon Basin          27  Rainforest\n",
            "3  Patagonian Steppe          10      Steppe\n",
            "\n",
            "Column-wise Concatenation:\n",
            "             Region  Avg_Temp_C   Biome             Region  Avg_Temp_C  \\\n",
            "0    Arctic Circle         -15  Tundra       Amazon Basin          27   \n",
            "1  Northern Tundra         -10   Taiga  Patagonian Steppe          10   \n",
            "\n",
            "        Biome  \n",
            "0  Rainforest  \n",
            "1      Steppe  \n",
            "\n",
            "Concatenation with Keys:\n",
            "                     Region  Avg_Temp_C       Biome\n",
            "North 0      Arctic Circle         -15      Tundra\n",
            "      1    Northern Tundra         -10       Taiga\n",
            "South 0       Amazon Basin          27  Rainforest\n",
            "      1  Patagonian Steppe          10      Steppe\n"
          ]
        }
      ]
    },
    {
      "cell_type": "code",
      "source": [
        "#working with text data\n",
        "data = {\n",
        "    'Passenger': ['Alice', 'Bob', 'Carlos', 'Diana', 'Eva'],\n",
        "    'Review': [\n",
        "        'The flight was excellent and on time',\n",
        "        'terrible service and rude crew',\n",
        "        'food was okay but legroom was cramped',\n",
        "        'Loved the inflight entertainment options!',\n",
        "        'flight delayed by 3 hours, very annoying'\n",
        "    ],\n",
        "    'Airline': ['Delta', 'United', 'Lufthansa', 'Emirates', 'Qantas']\n",
        "}\n",
        "df=pd.DataFrame(data)\n",
        "#text Cleaning and filtering\n",
        "#convert all reviews to lowercase for normalisation\n",
        "df['Review_lower']=df['Review'].str.lower()\n",
        "#check if the word delayed is in the review\n",
        "df['Contains_Delayed']=df['Review_lower'].str.contains('delayed')\n",
        "#replace the world terrible with poor\n",
        "df['Cleaned_Review']=df['Review_lower'].str.replace('terrible','poor',regex=False)\n",
        "#count no of characters in the review\n",
        "df['Review_length']=df['Review'].str.len()\n",
        "#extract the first word using regex\n",
        "df['First_Word']=df['Review'].str.extract(r'^(\\w+)*')\n",
        "#print the updated data frame\n",
        "print(df)\n"
      ],
      "metadata": {
        "colab": {
          "base_uri": "https://localhost:8080/"
        },
        "id": "ibILG9WauoKz",
        "outputId": "09581891-dd96-458c-f51f-cb219d648599"
      },
      "execution_count": null,
      "outputs": [
        {
          "output_type": "stream",
          "name": "stdout",
          "text": [
            "  Passenger                                     Review    Airline  \\\n",
            "0     Alice       The flight was excellent and on time      Delta   \n",
            "1       Bob             terrible service and rude crew     United   \n",
            "2    Carlos      food was okay but legroom was cramped  Lufthansa   \n",
            "3     Diana  Loved the inflight entertainment options!   Emirates   \n",
            "4       Eva   flight delayed by 3 hours, very annoying     Qantas   \n",
            "\n",
            "                                Review_lower  Contains_Delayed  \\\n",
            "0       the flight was excellent and on time             False   \n",
            "1             terrible service and rude crew             False   \n",
            "2      food was okay but legroom was cramped             False   \n",
            "3  loved the inflight entertainment options!             False   \n",
            "4   flight delayed by 3 hours, very annoying              True   \n",
            "\n",
            "                              Cleaned_Review  Review_length First_Word  \n",
            "0       the flight was excellent and on time             36        The  \n",
            "1                 poor service and rude crew             30   terrible  \n",
            "2      food was okay but legroom was cramped             37       food  \n",
            "3  loved the inflight entertainment options!             41      Loved  \n",
            "4   flight delayed by 3 hours, very annoying             40     flight  \n"
          ]
        }
      ]
    },
    {
      "cell_type": "code",
      "source": [
        "data = {\n",
        "    'ShipmentID': ['S001', 'S002', 'S003', 'S004', 'S005'],\n",
        "    'PortOfOrigin': ['Shanghai', 'Hamburg', 'Singapore', 'Rotterdam', 'Mumbai'],\n",
        "    'ShipmentStatus': ['In Transit', 'Delivered', 'Delayed', 'In Transit', 'Delivered']\n",
        "}\n",
        "df=pd.DataFrame(data)\n",
        "#convert shipment status to categorical data\n",
        "df['ShipmentStatus']=pd.Categorical(df['ShipmentStatus'])\n",
        "print(df)\n",
        "print(\"Data types:\\n\",df.dtypes)"
      ],
      "metadata": {
        "colab": {
          "base_uri": "https://localhost:8080/"
        },
        "id": "-pla4919zBxy",
        "outputId": "7690d11e-82b3-45e3-cad9-517d06fdd92c"
      },
      "execution_count": null,
      "outputs": [
        {
          "output_type": "stream",
          "name": "stdout",
          "text": [
            "  ShipmentID PortOfOrigin ShipmentStatus\n",
            "0       S001     Shanghai     In Transit\n",
            "1       S002      Hamburg      Delivered\n",
            "2       S003    Singapore        Delayed\n",
            "3       S004    Rotterdam     In Transit\n",
            "4       S005       Mumbai      Delivered\n",
            "Data types:\n",
            " ShipmentID          object\n",
            "PortOfOrigin        object\n",
            "ShipmentStatus    category\n",
            "dtype: object\n"
          ]
        }
      ]
    },
    {
      "cell_type": "code",
      "source": [
        "#sorting ordering and comparison\n",
        "status_order=['Delayed','In Transit','Delivered']\n",
        "df['ShipmentStatus']=pd.Categorical(df['ShipmentStatus'],categories=status_order,ordered=True)\n",
        "sorted_df=df.sort_values('ShipmentStatus')\n",
        "print(\"Sorted by shipment status:\\n\",sorted_df)"
      ],
      "metadata": {
        "colab": {
          "base_uri": "https://localhost:8080/"
        },
        "id": "YpatkdXvzmv2",
        "outputId": "f3e53350-ef50-4ece-9e9f-2ac6248e5be6"
      },
      "execution_count": null,
      "outputs": [
        {
          "output_type": "stream",
          "name": "stdout",
          "text": [
            "Sorted by shipment status:\n",
            "   ShipmentID PortOfOrigin ShipmentStatus\n",
            "2       S003    Singapore        Delayed\n",
            "0       S001     Shanghai     In Transit\n",
            "3       S004    Rotterdam     In Transit\n",
            "1       S002      Hamburg      Delivered\n",
            "4       S005       Mumbai      Delivered\n"
          ]
        }
      ]
    },
    {
      "cell_type": "code",
      "source": [
        "#Memory Optimization with categoricals\n",
        "import numpy as np\n",
        "data = {\n",
        "    'PatientID': ['P001', 'P002', 'P003', 'P004', 'P005'],\n",
        "    'Temperature_C': [36.6, np.nan, 38.1, 37.5, np.nan],\n",
        "    'Blood_Pressure': ['120/80', '130/85', np.nan, '110/70', '125/82'],\n",
        "    'Heart_Rate': [72, 85, 88, np.nan, np.nan],\n",
        "    'Respiratory_Rate': [18, np.nan, 20, 19, 21]\n",
        "}\n",
        "df=pd.DataFrame(data)\n",
        "print(df)"
      ],
      "metadata": {
        "colab": {
          "base_uri": "https://localhost:8080/"
        },
        "id": "trsjmKrU09_M",
        "outputId": "6a8a42b7-834f-4049-b8cc-2c9c6ec0528e"
      },
      "execution_count": null,
      "outputs": [
        {
          "output_type": "stream",
          "name": "stdout",
          "text": [
            "  PatientID  Temperature_C Blood_Pressure  Heart_Rate  Respiratory_Rate\n",
            "0      P001           36.6         120/80        72.0              18.0\n",
            "1      P002            NaN         130/85        85.0               NaN\n",
            "2      P003           38.1            NaN        88.0              20.0\n",
            "3      P004           37.5         110/70         NaN              19.0\n",
            "4      P005            NaN         125/82         NaN              21.0\n"
          ]
        }
      ]
    },
    {
      "cell_type": "code",
      "source": [
        "#detecting missing values\n",
        "missingvalues=df.isna()\n",
        "missing=df.isna().sum()\n",
        "print(\"Mising matrix:\",missingvalues)\n",
        "print(\"Missing counts:\\n\",missing)"
      ],
      "metadata": {
        "colab": {
          "base_uri": "https://localhost:8080/"
        },
        "id": "pdkXvbvE6_X6",
        "outputId": "6c685b0b-0a97-4bd1-e37a-13a644cd2551"
      },
      "execution_count": null,
      "outputs": [
        {
          "output_type": "stream",
          "name": "stdout",
          "text": [
            "Mising matrix:    PatientID  Temperature_C  Blood_Pressure  Heart_Rate  Respiratory_Rate\n",
            "0      False          False           False       False             False\n",
            "1      False          False           False       False              True\n",
            "2      False          False            True       False             False\n",
            "3      False          False           False       False             False\n",
            "4      False          False           False       False             False\n",
            "Missing counts:\n",
            " PatientID           0\n",
            "Temperature_C       0\n",
            "Blood_Pressure      1\n",
            "Heart_Rate          0\n",
            "Respiratory_Rate    1\n",
            "dtype: int64\n"
          ]
        }
      ]
    },
    {
      "cell_type": "code",
      "source": [
        "df['Temperature_C']=df['Temperature_C'].fillna(df['Temperature_C'].mean())\n",
        "df['Heart_Rate']=df['Heart_Rate'].fillna(75)\n",
        "print(\"\\n After filling rows with all vitals missing:\\n\",df)\n",
        "df_dropped=df.dropna(how='all', subset=['Temperature_C','Blood_Pressure','Heart_Rate','Respiratory_Rate'])\n",
        "print(\"\\n After dropping rows with all vitals missing:\\n\",df_dropped)"
      ],
      "metadata": {
        "colab": {
          "base_uri": "https://localhost:8080/"
        },
        "id": "LvjZiXeA7Dsu",
        "outputId": "72f44bf1-a6f4-4e02-8666-39e1d481d214"
      },
      "execution_count": null,
      "outputs": [
        {
          "output_type": "stream",
          "name": "stdout",
          "text": [
            "\n",
            " After filling rows with all vitals missing:\n",
            "   PatientID  Temperature_C Blood_Pressure  Heart_Rate  Respiratory_Rate\n",
            "0      P001           36.6         120/80        72.0              18.0\n",
            "1      P002           37.4         130/85        85.0               NaN\n",
            "2      P003           38.1            NaN        88.0              20.0\n",
            "3      P004           37.5         110/70        75.0              19.0\n",
            "4      P005           37.4         125/82        75.0              21.0\n",
            "\n",
            " After dropping rows with all vitals missing:\n",
            "   PatientID  Temperature_C Blood_Pressure  Heart_Rate  Respiratory_Rate\n",
            "0      P001           36.6         120/80        72.0              18.0\n",
            "1      P002           37.4         130/85        85.0               NaN\n",
            "2      P003           38.1            NaN        88.0              20.0\n",
            "3      P004           37.5         110/70        75.0              19.0\n",
            "4      P005           37.4         125/82        75.0              21.0\n"
          ]
        }
      ]
    },
    {
      "cell_type": "code",
      "source": [
        "data = {\n",
        "    'Container_ID': ['C001', 'C002', 'C003', 'C001', 'C004', 'C002'],\n",
        "    'Origin_Port': ['Shanghai', 'Rotterdam', 'Dubai', 'Shanghai', 'Singapore', 'Rotterdam'],\n",
        "    'Destination_Port': ['Los Angeles', 'New York', 'Hamburg', 'Los Angeles', 'Tokyo', 'New York'],\n",
        "    'Weight_Tons': [20, 25, 18, 20, 30, 25]\n",
        "}\n",
        "df=pd.DataFrame(data)\n",
        "print(df.duplicated())\n",
        "df_dedup=df.drop_duplicates()\n",
        "print(df_dedup)\n",
        "df_unique_characters=df.drop_duplicates(subset=['Container_ID'])\n",
        "print(df_unique_characters)"
      ],
      "metadata": {
        "colab": {
          "base_uri": "https://localhost:8080/"
        },
        "id": "J6-d2M0a7IXT",
        "outputId": "95b59292-4148-4349-f44a-5e25e329d54d"
      },
      "execution_count": null,
      "outputs": [
        {
          "output_type": "stream",
          "name": "stdout",
          "text": [
            "0    False\n",
            "1    False\n",
            "2    False\n",
            "3     True\n",
            "4    False\n",
            "5     True\n",
            "dtype: bool\n",
            "  Container_ID Origin_Port Destination_Port  Weight_Tons\n",
            "0         C001    Shanghai      Los Angeles           20\n",
            "1         C002   Rotterdam         New York           25\n",
            "2         C003       Dubai          Hamburg           18\n",
            "4         C004   Singapore            Tokyo           30\n",
            "  Container_ID Origin_Port Destination_Port  Weight_Tons\n",
            "0         C001    Shanghai      Los Angeles           20\n",
            "1         C002   Rotterdam         New York           25\n",
            "2         C003       Dubai          Hamburg           18\n",
            "4         C004   Singapore            Tokyo           30\n"
          ]
        }
      ]
    },
    {
      "cell_type": "code",
      "source": [
        "data = {\n",
        "    'Container_ID': ['C001', 'C002', 'C003', 'C001', 'C004', 'C002'],\n",
        "    'Origin_Port': ['Shanghai', 'Rotterdam', 'Dubai', 'Shanghai', 'Singapore', 'Rotterdam'],\n",
        "    'Destination_Port': ['Los Angeles', 'New York', 'Hamburg', 'Los Angeles', 'Tokyo', 'New York'],\n",
        "    'Weight_Tons': [20, 25, 18, 20, 30, 25]\n",
        "}\n",
        "df=pd.DataFrame(data)\n",
        "uniq=df['Destination_Port'].unique()\n",
        "print(\"Unique Destination Port:\\n\",uniq)\n",
        "#unique container ids\n",
        "uniq_id=df['Container_ID'].unique()\n",
        "print(\"Unique Container IDs:\\n\",uniq_id)\n",
        "#print frequency of each origin port\n",
        "port_freq=df['Origin_Port'].value_counts()\n",
        "print(\"Frequency of Origin Ports:\\n\",port_freq)"
      ],
      "metadata": {
        "colab": {
          "base_uri": "https://localhost:8080/"
        },
        "id": "j0AoNOLj9TLW",
        "outputId": "5a52a5d5-3b28-482a-df43-f9676b2473cd"
      },
      "execution_count": null,
      "outputs": [
        {
          "output_type": "stream",
          "name": "stdout",
          "text": [
            "Unique Destination Port:\n",
            " ['Los Angeles' 'New York' 'Hamburg' 'Tokyo']\n",
            "Unique Container IDs:\n",
            " ['C001' 'C002' 'C003' 'C004']\n",
            "Frequency of Origin Ports:\n",
            " Origin_Port\n",
            "Shanghai     2\n",
            "Rotterdam    2\n",
            "Dubai        1\n",
            "Singapore    1\n",
            "Name: count, dtype: int64\n"
          ]
        }
      ]
    },
    {
      "cell_type": "code",
      "source": [
        "#Dataframe w dupes col labels\n",
        "df_dupes = pd.DataFrame([[1,2,3], [4,5,6]], columns=['A', 'B', 'A'])\n",
        "print(\"Duplicated col:\\n\", df_dupes.columns.duplicated())\n",
        "\n",
        "# craete sample datframe w dupes row indices\n",
        "df_dupes = pd.DataFrame({'Shipment': ['Box1', 'Box2', 'Box3'],\n",
        "                         'Weight': [10, 20, 30]}, index=[0, 1, 1])\n",
        "print(\"Duplicated index:\\n\", df_dupes.index.duplicated())"
      ],
      "metadata": {
        "colab": {
          "base_uri": "https://localhost:8080/"
        },
        "id": "OHGwSVmJ_ghu",
        "outputId": "740667b7-3911-459d-c760-fcd9f53cd1b1"
      },
      "execution_count": null,
      "outputs": [
        {
          "output_type": "stream",
          "name": "stdout",
          "text": [
            "Duplicated col:\n",
            " [False False  True]\n",
            "Duplicated index:\n",
            " [False False  True]\n"
          ]
        }
      ]
    },
    {
      "cell_type": "code",
      "source": [
        "ota_data = pd.DataFrame({\n",
        "    'PassengerID': [101, 102, 103],\n",
        "    'Origin': ['JFK', 'LHR', 'DXB'],\n",
        "    'Destination': ['CDG', 'DEL', 'HND'],\n",
        "    'FareUSD': [520, 690, 830]\n",
        "})\n",
        "\n",
        "# Create Airline website bookings DataFrame\n",
        "airline_data = pd.DataFrame({\n",
        "    'PassengerID': [104, 105],\n",
        "    'Origin': ['SIN', 'SFO'],\n",
        "    'Destination': ['SYD', 'ICN'],\n",
        "    'FareUSD': [720, 640]\n",
        "})\n",
        "\n",
        "# Combine both datasets vertically (row-wise)\n",
        "combined_data = pd.concat([ota_data, airline_data], ignore_index=True)\n",
        "\n",
        "print(combined_data)"
      ],
      "metadata": {
        "colab": {
          "base_uri": "https://localhost:8080/"
        },
        "id": "TvspbHvFCSdw",
        "outputId": "0eea31d4-727f-49b2-cca0-71c6d19add47"
      },
      "execution_count": null,
      "outputs": [
        {
          "output_type": "stream",
          "name": "stdout",
          "text": [
            "   PassengerID Origin Destination  FareUSD\n",
            "0          101    JFK         CDG      520\n",
            "1          102    LHR         DEL      690\n",
            "2          103    DXB         HND      830\n",
            "3          104    SIN         SYD      720\n",
            "4          105    SFO         ICN      640\n"
          ]
        }
      ]
    },
    {
      "cell_type": "code",
      "source": [
        "tickets = pd.DataFrame({\n",
        "    'PassengerID': [101, 102, 103],\n",
        "    'Origin': ['JFK', 'LHR', 'DXB'],\n",
        "    'Destination': ['CDG', 'DEL', 'HND']\n",
        "})\n",
        "\n",
        "# Airport metadata\n",
        "airports = pd.DataFrame({\n",
        "    'AirportCode': ['JFK', 'LHR', 'DXB', 'CDG', 'DEL', 'HND'],\n",
        "    'Country': ['USA', 'UK', 'UAE', 'France', 'India', 'Japan']\n",
        "})\n",
        "merge=tickets.merge(airports,how='left',left_on='Origin',right_on='AirportCode')\n",
        "print(merged)"
      ],
      "metadata": {
        "colab": {
          "base_uri": "https://localhost:8080/"
        },
        "id": "Qf5EjWGzCbJS",
        "outputId": "bb7206b7-545d-45ab-c0e9-b420d7bf6903"
      },
      "execution_count": null,
      "outputs": [
        {
          "output_type": "stream",
          "name": "stdout",
          "text": [
            "   PassengerID Origin Destination AirportCode Country\n",
            "0        101.0    JFK         CDG         JFK     USA\n",
            "1        102.0    LHR         DEL         LHR      UK\n",
            "2        103.0    DXB         HND         DXB     UAE\n",
            "3          NaN    NaN         NaN         CDG  France\n",
            "4          NaN    NaN         NaN         DEL   India\n",
            "5          NaN    NaN         NaN         HND   Japan\n"
          ]
        }
      ]
    },
    {
      "cell_type": "code",
      "source": [
        "schedule_df = pd.DataFrame({\n",
        "    'FlightNo': ['AI101', 'BA204', 'LH789', 'EK501'],\n",
        "    'Origin': ['Delhi', 'London', 'Frankfurt', 'Dubai'],\n",
        "    'Destination': ['New York', 'Mumbai', 'Tokyo', 'Singapore']\n",
        "}).set_index('FlightNo')\n",
        "\n",
        "# Prices DataFrame: ticket prices\n",
        "prices_df = pd.DataFrame({\n",
        "    'FlightNo': ['AI101', 'BA204', 'SQ802', 'EK501'],\n",
        "    'FareUSD': [850, 920, 780, 730]\n",
        "}).set_index('FlightNo')\n",
        "left_join=schedule_df.join(prices_df,how='left')\n",
        "print(left_join)\n",
        "right_join=schedule_df.join(prices_df,how='right')\n",
        "print(right_join)\n",
        "inner_join=schedule_df.join(prices_df,how='inner')\n",
        "print(inner_join)\n",
        "outer_join=schedule_df.join(prices_df,how='outer')\n",
        "print(outer_join)"
      ],
      "metadata": {
        "colab": {
          "base_uri": "https://localhost:8080/"
        },
        "id": "HI-5IiMtEalk",
        "outputId": "837a6c74-58fd-4233-eddc-7c702d746ce0"
      },
      "execution_count": null,
      "outputs": [
        {
          "output_type": "stream",
          "name": "stdout",
          "text": [
            "             Origin Destination  FareUSD\n",
            "FlightNo                                \n",
            "AI101         Delhi    New York    850.0\n",
            "BA204        London      Mumbai    920.0\n",
            "LH789     Frankfurt       Tokyo      NaN\n",
            "EK501         Dubai   Singapore    730.0\n",
            "          Origin Destination  FareUSD\n",
            "FlightNo                             \n",
            "AI101      Delhi    New York      850\n",
            "BA204     London      Mumbai      920\n",
            "SQ802        NaN         NaN      780\n",
            "EK501      Dubai   Singapore      730\n",
            "          Origin Destination  FareUSD\n",
            "FlightNo                             \n",
            "AI101      Delhi    New York      850\n",
            "BA204     London      Mumbai      920\n",
            "EK501      Dubai   Singapore      730\n",
            "             Origin Destination  FareUSD\n",
            "FlightNo                                \n",
            "AI101         Delhi    New York    850.0\n",
            "BA204        London      Mumbai    920.0\n",
            "EK501         Dubai   Singapore    730.0\n",
            "LH789     Frankfurt       Tokyo      NaN\n",
            "SQ802           NaN         NaN    780.0\n"
          ]
        }
      ]
    },
    {
      "cell_type": "code",
      "source": [
        "fare_data = pd.DataFrame({\n",
        "    'Route': ['NYC-LON', 'NYC-LON', 'NYC-LON', 'DEL-TYO', 'DEL-TYO', 'DEL-TYO'],\n",
        "    'Class': ['Economy', 'Business', 'First', 'Economy', 'Business', 'First'],\n",
        "    'FareUSD': [500, 1200, 2200, 450, 1100, 2100]\n",
        "})\n",
        "print(\"All Data \\n\",fare_data)\n",
        "#Printing Pivoted data one row per route one column per class\n",
        "pivoted_fares=fare_data.pivot(index='Route',columns='Class',values='FareUSD')\n",
        "print(\"Pivoted Data \\n\",pivoted_fares)"
      ],
      "metadata": {
        "colab": {
          "base_uri": "https://localhost:8080/"
        },
        "id": "4R32NXS1GA1J",
        "outputId": "a20e182f-faf3-41e5-8178-6b3efd5a6df5"
      },
      "execution_count": null,
      "outputs": [
        {
          "output_type": "stream",
          "name": "stdout",
          "text": [
            "All Data \n",
            "      Route     Class  FareUSD\n",
            "0  NYC-LON   Economy      500\n",
            "1  NYC-LON  Business     1200\n",
            "2  NYC-LON     First     2200\n",
            "3  DEL-TYO   Economy      450\n",
            "4  DEL-TYO  Business     1100\n",
            "5  DEL-TYO     First     2100\n",
            "Pivoted Data \n",
            " Class    Business  Economy  First\n",
            "Route                            \n",
            "DEL-TYO      1100      450   2100\n",
            "NYC-LON      1200      500   2200\n"
          ]
        }
      ]
    },
    {
      "cell_type": "code",
      "source": [
        "#pivot table-Average fair by origin and price\n",
        "fare_data = pd.DataFrame({\n",
        "    'Route': ['NYC-LON', 'NYC-LON', 'NYC-LON', 'DEL-TYO', 'DEL-TYO', 'DEL-TYO'],\n",
        "    'Class': ['Economy', 'Business', 'First', 'Economy', 'Business', 'First'],\n",
        "    'FareUSD': [500, 1200, 2200, 450, 1100, 2100]\n",
        "})\n",
        "pivot_table=fare_data.pivot_table(values='FareUSD',index='Route',columns='Class',aggfunc='mean')\n",
        "print(\"Pivot Table\\n\",pivot_table)\n"
      ],
      "metadata": {
        "colab": {
          "base_uri": "https://localhost:8080/"
        },
        "id": "ud8Kt254HG-h",
        "outputId": "b818ce29-fdf0-4509-99ed-d11d54f3f489"
      },
      "execution_count": null,
      "outputs": [
        {
          "output_type": "stream",
          "name": "stdout",
          "text": [
            "Pivot Table\n",
            " Class    Business  Economy   First\n",
            "Route                             \n",
            "DEL-TYO    1100.0    450.0  2100.0\n",
            "NYC-LON    1200.0    500.0  2200.0\n"
          ]
        }
      ]
    }
  ],
  "metadata": {
    "colab": {
      "provenance": []
    },
    "kernelspec": {
      "display_name": "Python 3",
      "name": "python3"
    },
    "language_info": {
      "name": "python"
    }
  },
  "nbformat": 4,
  "nbformat_minor": 0
}